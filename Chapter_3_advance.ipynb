{
  "nbformat": 4,
  "nbformat_minor": 0,
  "metadata": {
    "colab": {
      "name": "Chapter_3_advance.ipynb",
      "provenance": []
    },
    "kernelspec": {
      "name": "python3",
      "display_name": "Python 3"
    },
    "language_info": {
      "name": "python"
    }
  },
  "cells": [
    {
      "cell_type": "code",
      "metadata": {
        "colab": {
          "base_uri": "https://localhost:8080/"
        },
        "id": "s14v9P4XT7Kj",
        "outputId": "ddc0566b-fe22-4fd2-c691-d9d139d4197d"
      },
      "source": [
        "!pip install beautifulsoup4"
      ],
      "execution_count": null,
      "outputs": [
        {
          "output_type": "stream",
          "text": [
            "Requirement already satisfied: beautifulsoup4 in /usr/local/lib/python3.7/dist-packages (4.6.3)\n"
          ],
          "name": "stdout"
        }
      ]
    },
    {
      "cell_type": "code",
      "metadata": {
        "colab": {
          "base_uri": "https://localhost:8080/"
        },
        "id": "XwdVnSDAUVdH",
        "outputId": "abb90a8c-667d-462d-be68-71de69eec418"
      },
      "source": [
        "!pip install lxml"
      ],
      "execution_count": null,
      "outputs": [
        {
          "output_type": "stream",
          "text": [
            "Requirement already satisfied: lxml in /usr/local/lib/python3.7/dist-packages (4.2.6)\n"
          ],
          "name": "stdout"
        }
      ]
    },
    {
      "cell_type": "code",
      "metadata": {
        "id": "Ya-nMAg0UY35"
      },
      "source": [
        "\n",
        "import bs4 as bs\n",
        "import urllib.request\n",
        "import re \n",
        "\n",
        "scrapped_data = urllib.request.urlopen('https://th.wikipedia.org/wiki/%E0%B8%9B%E0%B8%A3%E0%B8%B0%E0%B9%80%E0%B8%97%E0%B8%A8%E0%B9%84%E0%B8%97%E0%B8%A2')\n",
        "article = scrapped_data.read()\n",
        "\n",
        "\n",
        "parsed_article = bs.BeautifulSoup(article,'lxml')\n",
        "\n",
        "paragraphs = parsed_article.find_all('p')\n",
        "\n",
        "article_text = ''\n",
        "\n",
        "for p in paragraphs:\n",
        "  article_text += p.text"
      ],
      "execution_count": null,
      "outputs": []
    },
    {
      "cell_type": "code",
      "metadata": {
        "colab": {
          "base_uri": "https://localhost:8080/"
        },
        "id": "Jz6p4_WzVZQN",
        "outputId": "5eea8714-1f1d-4dcb-de01-d1deaa9cfcb4"
      },
      "source": [
        "!pip install pythainlp \n"
      ],
      "execution_count": null,
      "outputs": [
        {
          "output_type": "stream",
          "text": [
            "Collecting pythainlp\n",
            "\u001b[?25l  Downloading https://files.pythonhosted.org/packages/6e/e7/837dd9ab52fac889af830dc094a1598251f70004a2f1707ab0ff8dc0f63a/pythainlp-2.3.1-py3-none-any.whl (11.0MB)\n",
            "\u001b[K     |████████████████████████████████| 11.0MB 5.2MB/s \n",
            "\u001b[?25hCollecting tinydb>=3.0\n",
            "  Downloading https://files.pythonhosted.org/packages/af/cd/1ce3d93818cdeda0446b8033d21e5f32daeb3a866bbafd878a9a62058a9c/tinydb-4.4.0-py3-none-any.whl\n",
            "Requirement already satisfied: requests>=2.22.0 in /usr/local/lib/python3.7/dist-packages (from pythainlp) (2.23.0)\n",
            "Collecting python-crfsuite>=0.9.6\n",
            "\u001b[?25l  Downloading https://files.pythonhosted.org/packages/79/47/58f16c46506139f17de4630dbcfb877ce41a6355a1bbf3c443edb9708429/python_crfsuite-0.9.7-cp37-cp37m-manylinux1_x86_64.whl (743kB)\n",
            "\u001b[K     |████████████████████████████████| 747kB 29.0MB/s \n",
            "\u001b[?25hRequirement already satisfied: chardet<4,>=3.0.2 in /usr/local/lib/python3.7/dist-packages (from requests>=2.22.0->pythainlp) (3.0.4)\n",
            "Requirement already satisfied: urllib3!=1.25.0,!=1.25.1,<1.26,>=1.21.1 in /usr/local/lib/python3.7/dist-packages (from requests>=2.22.0->pythainlp) (1.24.3)\n",
            "Requirement already satisfied: idna<3,>=2.5 in /usr/local/lib/python3.7/dist-packages (from requests>=2.22.0->pythainlp) (2.10)\n",
            "Requirement already satisfied: certifi>=2017.4.17 in /usr/local/lib/python3.7/dist-packages (from requests>=2.22.0->pythainlp) (2020.12.5)\n",
            "Installing collected packages: tinydb, python-crfsuite, pythainlp\n",
            "Successfully installed pythainlp-2.3.1 python-crfsuite-0.9.7 tinydb-4.4.0\n"
          ],
          "name": "stdout"
        }
      ]
    },
    {
      "cell_type": "code",
      "metadata": {
        "id": "x46waUZoWNFw"
      },
      "source": [
        "import pythainlp \n",
        "\n",
        "processed_article = article_text.lower()\n",
        "processed_article = re.sub(r'\\s+', ' ', processed_article)\n",
        "\n",
        "\n",
        "all_sentences = pythainlp.tokenize.sent_tokenize(processed_article)\n",
        "\n",
        "all_words = [pythainlp.tokenize.word_tokenize(sent) for sent in all_sentences]\n",
        "\n",
        "stopwords = pythainlp.corpus.common.thai_stopwords()\n",
        "\n",
        "for i in range(len(all_words)):\n",
        "  all_words[i] = [w for w in all_words[i] if w not in stopwords]"
      ],
      "execution_count": null,
      "outputs": []
    },
    {
      "cell_type": "code",
      "metadata": {
        "colab": {
          "base_uri": "https://localhost:8080/"
        },
        "id": "7s2PcjFbXI5d",
        "outputId": "be442dce-d6fd-452a-9eba-c4b37e2beee2"
      },
      "source": [
        "!pip install gensim"
      ],
      "execution_count": null,
      "outputs": [
        {
          "output_type": "stream",
          "text": [
            "Requirement already satisfied: gensim in /usr/local/lib/python3.7/dist-packages (3.6.0)\n",
            "Requirement already satisfied: numpy>=1.11.3 in /usr/local/lib/python3.7/dist-packages (from gensim) (1.19.5)\n",
            "Requirement already satisfied: six>=1.5.0 in /usr/local/lib/python3.7/dist-packages (from gensim) (1.15.0)\n",
            "Requirement already satisfied: smart-open>=1.2.1 in /usr/local/lib/python3.7/dist-packages (from gensim) (5.0.0)\n",
            "Requirement already satisfied: scipy>=0.18.1 in /usr/local/lib/python3.7/dist-packages (from gensim) (1.4.1)\n"
          ],
          "name": "stdout"
        }
      ]
    },
    {
      "cell_type": "code",
      "metadata": {
        "id": "mDQhvplRXhfN"
      },
      "source": [
        "from gensim.models import Word2Vec\n",
        "\n",
        "word2vec = Word2Vec(all_words, min_count=2)"
      ],
      "execution_count": null,
      "outputs": []
    },
    {
      "cell_type": "code",
      "metadata": {
        "colab": {
          "base_uri": "https://localhost:8080/"
        },
        "id": "00ltfcyWX3mV",
        "outputId": "53da50c2-954f-4406-ee5e-4f59b924f1b6"
      },
      "source": [
        "vocabulary = word2vec.wv.vocab\n",
        "print(vocabulary)"
      ],
      "execution_count": null,
      "outputs": [
        {
          "output_type": "stream",
          "text": [
            "{' ': <gensim.models.keyedvectors.Vocab object at 0x7f79ac1ac9d0>, 'อาเซียน': <gensim.models.keyedvectors.Vocab object at 0x7f79ac1aca90>, '(': <gensim.models.keyedvectors.Vocab object at 0x7f79ac1ac510>, ')': <gensim.models.keyedvectors.Vocab object at 0x7f79ac1ac610>, '[': <gensim.models.keyedvectors.Vocab object at 0x7f79ac1acdd0>, ']': <gensim.models.keyedvectors.Vocab object at 0x7f79ac1ac490>, 'ประเทศ': <gensim.models.keyedvectors.Vocab object at 0x7f79ac1ac6d0>, 'ไทย': <gensim.models.keyedvectors.Vocab object at 0x7f79ac1acc10>, 'เป็นทางการ': <gensim.models.keyedvectors.Vocab object at 0x7f79ac1acb50>, 'ราชอาณาจักร': <gensim.models.keyedvectors.Vocab object at 0x7f79ac1ace10>, 'รัฐ': <gensim.models.keyedvectors.Vocab object at 0x7f79ac1ac210>, 'ชาติ': <gensim.models.keyedvectors.Vocab object at 0x7f79ac1acc50>, 'ตั้งอยู่': <gensim.models.keyedvectors.Vocab object at 0x7f79ac1acf10>, 'ภูมิภาค': <gensim.models.keyedvectors.Vocab object at 0x7f79ac111050>, 'เอเชียตะวันออกเฉียงใต้': <gensim.models.keyedvectors.Vocab object at 0x7f79ac111090>, 'เดิม': <gensim.models.keyedvectors.Vocab object at 0x7f79ac1110d0>, 'ชื่อว่า': <gensim.models.keyedvectors.Vocab object at 0x7f79ac111110>, '\"': <gensim.models.keyedvectors.Vocab object at 0x7f79ac111150>, 'สยาม': <gensim.models.keyedvectors.Vocab object at 0x7f79ac111190>, 'รัฐบาล': <gensim.models.keyedvectors.Vocab object at 0x7f79ac1111d0>, 'ประกาศ': <gensim.models.keyedvectors.Vocab object at 0x7f79ac111210>, 'ชื่อ': <gensim.models.keyedvectors.Vocab object at 0x7f79ac111250>, 'ปี': <gensim.models.keyedvectors.Vocab object at 0x7f79ac111290>, '2482': <gensim.models.keyedvectors.Vocab object at 0x7f79ac1112d0>, 'ขนาดใหญ่': <gensim.models.keyedvectors.Vocab object at 0x7f79ac111310>, 'อันดับ': <gensim.models.keyedvectors.Vocab object at 0x7f79ac111350>, '50': <gensim.models.keyedvectors.Vocab object at 0x7f79ac111390>, 'โลก': <gensim.models.keyedvectors.Vocab object at 0x7f79ac1113d0>, 'ตารางกิโลเมตร': <gensim.models.keyedvectors.Vocab object at 0x7f79ac111410>, '13': <gensim.models.keyedvectors.Vocab object at 0x7f79ac111450>, 'ประชากร': <gensim.models.keyedvectors.Vocab object at 0x7f79ac111490>, '20': <gensim.models.keyedvectors.Vocab object at 0x7f79ac1114d0>, '69': <gensim.models.keyedvectors.Vocab object at 0x7f79ac111510>, 'ล้าน': <gensim.models.keyedvectors.Vocab object at 0x7f79ac111550>, 'คน': <gensim.models.keyedvectors.Vocab object at 0x7f79ac111590>, 'อาณาเขต': <gensim.models.keyedvectors.Vocab object at 0x7f79ac1115d0>, 'ติดต่อ': <gensim.models.keyedvectors.Vocab object at 0x7f79ac111610>, 'พม่า': <gensim.models.keyedvectors.Vocab object at 0x7f79ac111650>, 'ทิศเหนือ': <gensim.models.keyedvectors.Vocab object at 0x7f79ac111690>, 'ตะวันตก': <gensim.models.keyedvectors.Vocab object at 0x7f79ac1116d0>, 'ลาว': <gensim.models.keyedvectors.Vocab object at 0x7f79ac111710>, 'ตะวันออก': <gensim.models.keyedvectors.Vocab object at 0x7f79ac111750>, 'กัมพูชา': <gensim.models.keyedvectors.Vocab object at 0x7f79ac111790>, 'ทิศตะวันออก': <gensim.models.keyedvectors.Vocab object at 0x7f79ac1117d0>, 'มาเลเซีย': <gensim.models.keyedvectors.Vocab object at 0x7f79ac111810>, 'ทางทิศใต้': <gensim.models.keyedvectors.Vocab object at 0x7f79ac111850>, 'กรุงเทพมหานคร': <gensim.models.keyedvectors.Vocab object at 0x7f79ac111890>, 'ศูนย์กลาง': <gensim.models.keyedvectors.Vocab object at 0x7f79ac1118d0>, 'การบริหาร': <gensim.models.keyedvectors.Vocab object at 0x7f79ac111910>, 'ราชการ': <gensim.models.keyedvectors.Vocab object at 0x7f79ac111950>, 'แผ่นดิน': <gensim.models.keyedvectors.Vocab object at 0x7f79ac111990>, 'นคร': <gensim.models.keyedvectors.Vocab object at 0x7f79ac1119d0>, 'การปกครอง': <gensim.models.keyedvectors.Vocab object at 0x7f79ac111a10>, 'ส่วนภูมิภาค': <gensim.models.keyedvectors.Vocab object at 0x7f79ac111a50>, 'จัดระเบียบ': <gensim.models.keyedvectors.Vocab object at 0x7f79ac111a90>, '76': <gensim.models.keyedvectors.Vocab object at 0x7f79ac111ad0>, 'จังหวัด': <gensim.models.keyedvectors.Vocab object at 0x7f79ac111b10>, '14': <gensim.models.keyedvectors.Vocab object at 0x7f79ac111b50>, 'สถาปนา': <gensim.models.keyedvectors.Vocab object at 0x7f79ac111b90>, 'ระบอบ': <gensim.models.keyedvectors.Vocab object at 0x7f79ac111bd0>, 'ราชาธิปไตย': <gensim.models.keyedvectors.Vocab object at 0x7f79ac111c10>, 'รัฐธรรมนูญ': <gensim.models.keyedvectors.Vocab object at 0x7f79ac111c50>, 'ประชาธิปไตย': <gensim.models.keyedvectors.Vocab object at 0x7f79ac111c90>, 'ระบบ': <gensim.models.keyedvectors.Vocab object at 0x7f79ac111cd0>, 'รัฐสภา': <gensim.models.keyedvectors.Vocab object at 0x7f79ac111d10>, '2475': <gensim.models.keyedvectors.Vocab object at 0x7f79ac111d50>, 'กองทัพ': <gensim.models.keyedvectors.Vocab object at 0x7f79ac111d90>, 'มีบทบาท': <gensim.models.keyedvectors.Vocab object at 0x7f79ac111dd0>, 'การเมือง': <gensim.models.keyedvectors.Vocab object at 0x7f79ac111e10>, 'รัฐประหาร': <gensim.models.keyedvectors.Vocab object at 0x7f79ac111e50>, '2557': <gensim.models.keyedvectors.Vocab object at 0x7f79ac111e90>, 'หลักฐาน': <gensim.models.keyedvectors.Vocab object at 0x7f79ac111ed0>, '20,000': <gensim.models.keyedvectors.Vocab object at 0x7f79ac111f10>, 'ปีก่อน': <gensim.models.keyedvectors.Vocab object at 0x7f79ac111f50>, 'คริสตกาล': <gensim.models.keyedvectors.Vocab object at 0x7f79ac111f90>, 'ไท': <gensim.models.keyedvectors.Vocab object at 0x7f79ac111fd0>, 'เข้าสู่': <gensim.models.keyedvectors.Vocab object at 0x7f79ac112050>, 'บริเวณ': <gensim.models.keyedvectors.Vocab object at 0x7f79ac112090>, 'คริสต์ศตวรรษ': <gensim.models.keyedvectors.Vocab object at 0x7f79ac1120d0>, '11': <gensim.models.keyedvectors.Vocab object at 0x7f79ac112110>, 'เข้ามา': <gensim.models.keyedvectors.Vocab object at 0x7f79ac112150>, 'แว่นแคว้น': <gensim.models.keyedvectors.Vocab object at 0x7f79ac112190>, 'ต่าง ๆ': <gensim.models.keyedvectors.Vocab object at 0x7f79ac1121d0>, 'อาณาจักร': <gensim.models.keyedvectors.Vocab object at 0x7f79ac112210>, 'สุโขทัย': <gensim.models.keyedvectors.Vocab object at 0x7f79ac112250>, 'ล้านนา': <gensim.models.keyedvectors.Vocab object at 0x7f79ac112290>, 'อยุธยา': <gensim.models.keyedvectors.Vocab object at 0x7f79ac1122d0>, 'นักประวัติศาสตร์': <gensim.models.keyedvectors.Vocab object at 0x7f79ac112310>, 'ประวัติศาสตร์': <gensim.models.keyedvectors.Vocab object at 0x7f79ac112350>, 'ต่อมา': <gensim.models.keyedvectors.Vocab object at 0x7f79ac112390>, 'ค่อย ๆ': <gensim.models.keyedvectors.Vocab object at 0x7f79ac1123d0>, 'มากขึ้น': <gensim.models.keyedvectors.Vocab object at 0x7f79ac112410>, 'มหาอำนาจ': <gensim.models.keyedvectors.Vocab object at 0x7f79ac112450>, 'ปลาย': <gensim.models.keyedvectors.Vocab object at 0x7f79ac112490>, 'แทน': <gensim.models.keyedvectors.Vocab object at 0x7f79ac1124d0>, 'จักรวรรดิ': <gensim.models.keyedvectors.Vocab object at 0x7f79ac112510>, 'เขมร': <gensim.models.keyedvectors.Vocab object at 0x7f79ac112550>, 'ผนวก': <gensim.models.keyedvectors.Vocab object at 0x7f79ac112590>, 'ส่วนหนึ่ง': <gensim.models.keyedvectors.Vocab object at 0x7f79ac1125d0>, 'ทูต': <gensim.models.keyedvectors.Vocab object at 0x7f79ac112610>, 'โปรตุเกส': <gensim.models.keyedvectors.Vocab object at 0x7f79ac112650>, '2054': <gensim.models.keyedvectors.Vocab object at 0x7f79ac112690>, 'การสงคราม': <gensim.models.keyedvectors.Vocab object at 0x7f79ac1126d0>, 'นำไปสู่': <gensim.models.keyedvectors.Vocab object at 0x7f79ac112710>, 'กรุง': <gensim.models.keyedvectors.Vocab object at 0x7f79ac112750>, '2112': <gensim.models.keyedvectors.Vocab object at 0x7f79ac112790>, 'สมเด็จ': <gensim.models.keyedvectors.Vocab object at 0x7f79ac1127d0>, 'พระ': <gensim.models.keyedvectors.Vocab object at 0x7f79ac112810>, 'นเรศวร': <gensim.models.keyedvectors.Vocab object at 0x7f79ac112850>, 'มหาราช': <gensim.models.keyedvectors.Vocab object at 0x7f79ac112890>, 'เวลา': <gensim.models.keyedvectors.Vocab object at 0x7f79ac1128d0>, '15': <gensim.models.keyedvectors.Vocab object at 0x7f79ac112910>, 'รุ่งเรือง': <gensim.models.keyedvectors.Vocab object at 0x7f79ac112950>, 'รัชกาล': <gensim.models.keyedvectors.Vocab object at 0x7f79ac112990>, 'พระนารายณ์': <gensim.models.keyedvectors.Vocab object at 0x7f79ac1129d0>, 'หลังจากนั้น': <gensim.models.keyedvectors.Vocab object at 0x7f79ac112a10>, 'เสื่อม': <gensim.models.keyedvectors.Vocab object at 0x7f79ac112a50>, 'อำนาจ': <gensim.models.keyedvectors.Vocab object at 0x7f79ac112a90>, 'สาเหตุ': <gensim.models.keyedvectors.Vocab object at 0x7f79ac1ac050>, 'ผลัดแผ่นดิน': <gensim.models.keyedvectors.Vocab object at 0x7f79ac1acd50>, 'การนองเลือด': <gensim.models.keyedvectors.Vocab object at 0x7f79ac1ac5d0>, 'สุดท้าย': <gensim.models.keyedvectors.Vocab object at 0x7f79ac1ac0d0>, 'กรุงศรีอยุธยา': <gensim.models.keyedvectors.Vocab object at 0x7f79ac1acf90>, 'ทำลาย': <gensim.models.keyedvectors.Vocab object at 0x7f79aba93850>, 'สิ้นเชิง': <gensim.models.keyedvectors.Vocab object at 0x7f79aba93fd0>, '2310': <gensim.models.keyedvectors.Vocab object at 0x7f79ac214090>, 'พระเจ้า': <gensim.models.keyedvectors.Vocab object at 0x7f79ac2144d0>, 'กรุงธนบุรี': <gensim.models.keyedvectors.Vocab object at 0x7f79a7c620d0>, 'รวบรวม': <gensim.models.keyedvectors.Vocab object at 0x7f79ac100b90>, 'แตก': <gensim.models.keyedvectors.Vocab object at 0x7f79ac100ad0>, 'ก๊ก': <gensim.models.keyedvectors.Vocab object at 0x7f79ac100cd0>, 'ธนบุรี': <gensim.models.keyedvectors.Vocab object at 0x7f79ac100610>, 'มีอายุ': <gensim.models.keyedvectors.Vocab object at 0x7f79ac100e50>, 'สำเร็จโทษ': <gensim.models.keyedvectors.Vocab object at 0x7f79ac100f50>, 'พระองค์': <gensim.models.keyedvectors.Vocab object at 0x7f79ac100b50>, 'บาท': <gensim.models.keyedvectors.Vocab object at 0x7f79ac100490>, 'พระพุทธ': <gensim.models.keyedvectors.Vocab object at 0x7f79ac1008d0>, 'ยอด': <gensim.models.keyedvectors.Vocab object at 0x7f79ac100310>, 'ฟ้า': <gensim.models.keyedvectors.Vocab object at 0x7f79ac100250>, 'จุฬา': <gensim.models.keyedvectors.Vocab object at 0x7f79ac100d10>, 'ปฐม': <gensim.models.keyedvectors.Vocab object at 0x7f79ac100ed0>, 'ราชวงศ์': <gensim.models.keyedvectors.Vocab object at 0x7f79ac100510>, 'จักรี': <gensim.models.keyedvectors.Vocab object at 0x7f79ac100b10>, 'กรุงรัตนโกสินทร์': <gensim.models.keyedvectors.Vocab object at 0x7f79ac100d90>, 'รับมือ': <gensim.models.keyedvectors.Vocab object at 0x7f79ac100f10>, 'ภัย': <gensim.models.keyedvectors.Vocab object at 0x7f79ac1009d0>, 'คุกคาม': <gensim.models.keyedvectors.Vocab object at 0x7f79ac100fd0>, 'ใกล้เคียง': <gensim.models.keyedvectors.Vocab object at 0x7f79ac100dd0>, 'จอมเกล้า': <gensim.models.keyedvectors.Vocab object at 0x7f79ac100bd0>, 'เจ้า': <gensim.models.keyedvectors.Vocab object at 0x7f79ac100c10>, 'หัว': <gensim.models.keyedvectors.Vocab object at 0x7f79ac100e90>, 'มีอิทธิพล': <gensim.models.keyedvectors.Vocab object at 0x7f79ac100950>, 'สนธิสัญญา': <gensim.models.keyedvectors.Vocab object at 0x7f79ac100d50>, 'เป็นธรรม': <gensim.models.keyedvectors.Vocab object at 0x7f79ac100a90>, 'ฉบับ': <gensim.models.keyedvectors.Vocab object at 0x7f79ac100e10>, 'เบา': <gensim.models.keyedvectors.Vocab object at 0x7f79ac1006d0>, 'ว์': <gensim.models.keyedvectors.Vocab object at 0x7f79ac100c50>, 'ริ': <gensim.models.keyedvectors.Vocab object at 0x7f79ac100a50>, 'ง': <gensim.models.keyedvectors.Vocab object at 0x7f79ac100910>, 'ตกเป็น': <gensim.models.keyedvectors.Vocab object at 0x7f79ac100c90>, 'อาณานิคม': <gensim.models.keyedvectors.Vocab object at 0x7f79ac100f90>, 'ใด': <gensim.models.keyedvectors.Vocab object at 0x7f79ac100a10>, 'ทันสมัย': <gensim.models.keyedvectors.Vocab object at 0x7f79ac100710>, 'รวมอำนาจ': <gensim.models.keyedvectors.Vocab object at 0x7f79ac100890>, 'ปกครอง': <gensim.models.keyedvectors.Vocab object at 0x7f79ac100650>, 'พระบาทสมเด็จพระจุลจอมเกล้าเจ้าอยู่หัว': <gensim.models.keyedvectors.Vocab object at 0x7f79ac100450>, 'ร่วมกับ': <gensim.models.keyedvectors.Vocab object at 0x7f79ac100850>, 'ฝ่ายสัมพันธมิตร': <gensim.models.keyedvectors.Vocab object at 0x7f79ac100810>, 'สงครามโลกครั้งที่หนึ่ง': <gensim.models.keyedvectors.Vocab object at 0x7f79ac1007d0>, '2460': <gensim.models.keyedvectors.Vocab object at 0x7f79ac100750>, ';': <gensim.models.keyedvectors.Vocab object at 0x7f79ac100590>, 'การปฏิวัติ': <gensim.models.keyedvectors.Vocab object at 0x7f79ac100550>, 'คณะ': <gensim.models.keyedvectors.Vocab object at 0x7f79ac1005d0>, 'ราษฎร': <gensim.models.keyedvectors.Vocab object at 0x7f79ac100350>, 'ทางการเมือง': <gensim.models.keyedvectors.Vocab object at 0x7f79ac100410>, 'พุทธ': <gensim.models.keyedvectors.Vocab object at 0x7f79ac1003d0>, 'ทศวรรษ': <gensim.models.keyedvectors.Vocab object at 0x7f79ac100690>, 'นายกรัฐมนตรี': <gensim.models.keyedvectors.Vocab object at 0x7f79ac100390>, 'จอมพล': <gensim.models.keyedvectors.Vocab object at 0x7f79ac100290>, 'แปลก': <gensim.models.keyedvectors.Vocab object at 0x7f79ac20c5d0>, 'พิบูล': <gensim.models.keyedvectors.Vocab object at 0x7f79ab0d9690>, 'สงคราม': <gensim.models.keyedvectors.Vocab object at 0x7f79ac1add50>, 'ดำเนิน': <gensim.models.keyedvectors.Vocab object at 0x7f79ac1ad990>, 'นโยบาย': <gensim.models.keyedvectors.Vocab object at 0x7f79ac1ad250>, 'ชาตินิยม': <gensim.models.keyedvectors.Vocab object at 0x7f79ac1add90>, 'เข้มข้น': <gensim.models.keyedvectors.Vocab object at 0x7f79ac1adad0>, 'สงครามโลกครั้งที่สอง': <gensim.models.keyedvectors.Vocab object at 0x7f79ac1ad510>, 'เข้ากับ': <gensim.models.keyedvectors.Vocab object at 0x7f79ac1adfd0>, 'สงครามเย็น': <gensim.models.keyedvectors.Vocab object at 0x7f79ac1ad810>, 'พันธมิตร': <gensim.models.keyedvectors.Vocab object at 0x7f79ac1ade10>, 'สหรัฐ': <gensim.models.keyedvectors.Vocab object at 0x7f79ac1ad110>, 'สนับสนุน': <gensim.models.keyedvectors.Vocab object at 0x7f79ac1adf50>, 'ทหาร': <gensim.models.keyedvectors.Vocab object at 0x7f79ac1ad750>, 'สฤษดิ์': <gensim.models.keyedvectors.Vocab object at 0x7f79ac1ad410>, 'ธนะ': <gensim.models.keyedvectors.Vocab object at 0x7f79ac1ad490>, 'รัชต': <gensim.models.keyedvectors.Vocab object at 0x7f79ac1ad210>, 'หัวหน้า': <gensim.models.keyedvectors.Vocab object at 0x7f79ac1add10>, '2500': <gensim.models.keyedvectors.Vocab object at 0x7f79ac1addd0>, 'ยุค': <gensim.models.keyedvectors.Vocab object at 0x7f79ac1ad9d0>, 'เผด็จ': <gensim.models.keyedvectors.Vocab object at 0x7f79ac1aded0>, 'การทหาร': <gensim.models.keyedvectors.Vocab object at 0x7f79ac1ada50>, 'เบ็ดเสร็จ': <gensim.models.keyedvectors.Vocab object at 0x7f79ac1adbd0>, 'ราช': <gensim.models.keyedvectors.Vocab object at 0x7f79ac1adcd0>, 'ต่อต้าน': <gensim.models.keyedvectors.Vocab object at 0x7f79ac1ada90>, 'คอมมิวนิสต์': <gensim.models.keyedvectors.Vocab object at 0x7f79ac1ad0d0>, 'เหตุการณ์': <gensim.models.keyedvectors.Vocab object at 0x7f79ac1ad450>, 'ตุลา': <gensim.models.keyedvectors.Vocab object at 0x7f79ac1ad890>, '2516': <gensim.models.keyedvectors.Vocab object at 0x7f79ac1ad910>, 'ทำให้เกิด': <gensim.models.keyedvectors.Vocab object at 0x7f79ac1ad6d0>, 'ๆ[': <gensim.models.keyedvectors.Vocab object at 0x7f79ac1ad8d0>, '16': <gensim.models.keyedvectors.Vocab object at 0x7f79ac1ad2d0>, '6': <gensim.models.keyedvectors.Vocab object at 0x7f79ac1ad050>, '2519': <gensim.models.keyedvectors.Vocab object at 0x7f79ac1ad7d0>, 'ครึ่ง': <gensim.models.keyedvectors.Vocab object at 0x7f79ac1ad710>, 'ใบ': <gensim.models.keyedvectors.Vocab object at 0x7f79ac1ad790>, 'การเลือกตั้ง': <gensim.models.keyedvectors.Vocab object at 0x7f79ac1ad5d0>, 'ครั้งแรก': <gensim.models.keyedvectors.Vocab object at 0x7f79ac1ad690>, '2531': <gensim.models.keyedvectors.Vocab object at 0x7f79ac1ad4d0>, '17': <gensim.models.keyedvectors.Vocab object at 0x7f79ac1ad550>, '2540': <gensim.models.keyedvectors.Vocab object at 0x7f79ac1ad650>, 'วิกฤต': <gensim.models.keyedvectors.Vocab object at 0x7f79ac1ad350>, 'ทักษิณ': <gensim.models.keyedvectors.Vocab object at 0x7f79ac1ad150>, 'ชินวัตร': <gensim.models.keyedvectors.Vocab object at 0x7f79b736e950>, 'สอง': <gensim.models.keyedvectors.Vocab object at 0x7f79ac112ad0>, 'ประกาศใช้': <gensim.models.keyedvectors.Vocab object at 0x7f79ac112b10>, 'วันที่': <gensim.models.keyedvectors.Vocab object at 0x7f79ac112b50>, 'เมษายน': <gensim.models.keyedvectors.Vocab object at 0x7f79ac112b90>, '2560': <gensim.models.keyedvectors.Vocab object at 0x7f79ac112bd0>, 'เป็นสมาชิก': <gensim.models.keyedvectors.Vocab object at 0x7f79ac112c10>, 'สหประชาชาติ': <gensim.models.keyedvectors.Vocab object at 0x7f79ac112c50>, 'ซี': <gensim.models.keyedvectors.Vocab object at 0x7f79ac112c90>, 'โต้': <gensim.models.keyedvectors.Vocab object at 0x7f79ac112cd0>, '2497': <gensim.models.keyedvectors.Vocab object at 0x7f79ac112d10>, 'ถือเป็น': <gensim.models.keyedvectors.Vocab object at 0x7f79ac112d50>, 'ปานกลาง': <gensim.models.keyedvectors.Vocab object at 0x7f79ac112d90>, '18': <gensim.models.keyedvectors.Vocab object at 0x7f79ac112dd0>, ']:': <gensim.models.keyedvectors.Vocab object at 0x7f79ac112e10>, '104': <gensim.models.keyedvectors.Vocab object at 0x7f79ac112e50>, 'รายได้': <gensim.models.keyedvectors.Vocab object at 0x7f79ac112e90>, '-': <gensim.models.keyedvectors.Vocab object at 0x7f79ac112ed0>, 'หลัก': <gensim.models.keyedvectors.Vocab object at 0x7f79ac112f10>, 'ภาคอุตสาหกรรม': <gensim.models.keyedvectors.Vocab object at 0x7f79ac112f50>, 'บริการ': <gensim.models.keyedvectors.Vocab object at 0x7f79ac112f90>, 'การเปลี่ยนแปลง': <gensim.models.keyedvectors.Vocab object at 0x7f79ac112fd0>, 'ทางเศรษฐกิจ': <gensim.models.keyedvectors.Vocab object at 0x7f79ac115050>, 'การอพยพ': <gensim.models.keyedvectors.Vocab object at 0x7f79ac115090>, 'เมือง': <gensim.models.keyedvectors.Vocab object at 0x7f79ac1150d0>, 'ประมาณการ': <gensim.models.keyedvectors.Vocab object at 0x7f79ac115110>, '2562': <gensim.models.keyedvectors.Vocab object at 0x7f79ac115150>, 'จีดีพี': <gensim.models.keyedvectors.Vocab object at 0x7f79ac115190>, 'มูลค่า': <gensim.models.keyedvectors.Vocab object at 0x7f79ac1151d0>, 'ราว': <gensim.models.keyedvectors.Vocab object at 0x7f79ac115210>, 'ดอลลาร์สหรัฐ': <gensim.models.keyedvectors.Vocab object at 0x7f79ac115250>, 'นับว่า': <gensim.models.keyedvectors.Vocab object at 0x7f79ac115290>, 'เศรษฐกิจ': <gensim.models.keyedvectors.Vocab object at 0x7f79ac1152d0>, '2': <gensim.models.keyedvectors.Vocab object at 0x7f79ac115310>, '25': <gensim.models.keyedvectors.Vocab object at 0x7f79ac115350>, 'ชาวต่างชาติ': <gensim.models.keyedvectors.Vocab object at 0x7f79ac115390>, '19': <gensim.models.keyedvectors.Vocab object at 0x7f79ac1153d0>, '73': <gensim.models.keyedvectors.Vocab object at 0x7f79ac115410>, 'ส์': <gensim.models.keyedvectors.Vocab object at 0x7f79ac115450>, 'ฝรั่งเศส': <gensim.models.keyedvectors.Vocab object at 0x7f79ac115490>, 'ทาส': <gensim.models.keyedvectors.Vocab object at 0x7f79ac1154d0>, 'จารึก': <gensim.models.keyedvectors.Vocab object at 0x7f79ac115510>, 'จาม': <gensim.models.keyedvectors.Vocab object at 0x7f79ac115550>, '190': <gensim.models.keyedvectors.Vocab object at 0x7f79ac115590>, '–': <gensim.models.keyedvectors.Vocab object at 0x7f79ac1155d0>, '194': <gensim.models.keyedvectors.Vocab object at 0x7f79ac115610>, '195': <gensim.models.keyedvectors.Vocab object at 0x7f79ac115650>, 'คนไทย': <gensim.models.keyedvectors.Vocab object at 0x7f79ac115690>, '21': <gensim.models.keyedvectors.Vocab object at 0x7f79ac1156d0>, 'ลา': <gensim.models.keyedvectors.Vocab object at 0x7f79ac115710>, 'บันทึก': <gensim.models.keyedvectors.Vocab object at 0x7f79ac115750>, 'ชัดเจน': <gensim.models.keyedvectors.Vocab object at 0x7f79ac115790>, '217': <gensim.models.keyedvectors.Vocab object at 0x7f79ac1157d0>, '22': <gensim.models.keyedvectors.Vocab object at 0x7f79ac115810>, '24': <gensim.models.keyedvectors.Vocab object at 0x7f79ac115850>, 'มิถุนายน': <gensim.models.keyedvectors.Vocab object at 0x7f79ac115890>, 'ป. พิบูลสงคราม': <gensim.models.keyedvectors.Vocab object at 0x7f79ac1158d0>, 'ว่าด้วย': <gensim.models.keyedvectors.Vocab object at 0x7f79ac115910>, '1': <gensim.models.keyedvectors.Vocab object at 0x7f79ac115950>, 'ประชาชน': <gensim.models.keyedvectors.Vocab object at 0x7f79ac115990>, 'ต้องการ': <gensim.models.keyedvectors.Vocab object at 0x7f79ac1159d0>, 'บอ': <gensim.models.keyedvectors.Vocab object at 0x7f79ac115a10>, 'ดินแดน': <gensim.models.keyedvectors.Vocab object at 0x7f79ac115a50>, 'ชาวไทย': <gensim.models.keyedvectors.Vocab object at 0x7f79ac115a90>, 'เชื้อชาติ': <gensim.models.keyedvectors.Vocab object at 0x7f79ac115ad0>, 'ในเวลานั้น': <gensim.models.keyedvectors.Vocab object at 0x7f79ac115b10>, '23': <gensim.models.keyedvectors.Vocab object at 0x7f79ac115b50>, '57': <gensim.models.keyedvectors.Vocab object at 0x7f79ac115b90>, '8': <gensim.models.keyedvectors.Vocab object at 0x7f79ac115bd0>, '2488': <gensim.models.keyedvectors.Vocab object at 0x7f79ac115c10>, 'กลับมา': <gensim.models.keyedvectors.Vocab object at 0x7f79ac115c50>, 'อีกครั้ง': <gensim.models.keyedvectors.Vocab object at 0x7f79ac115c90>, 'เป็นช่วง': <gensim.models.keyedvectors.Vocab object at 0x7f79ac115cd0>, 'ภาษาอังกฤษ': <gensim.models.keyedvectors.Vocab object at 0x7f79ac115d10>, 'ภาษา': <gensim.models.keyedvectors.Vocab object at 0x7f79ac115d50>, 'อย่างไรก็ตาม': <gensim.models.keyedvectors.Vocab object at 0x7f79ac115d90>, 'แพร่หลาย': <gensim.models.keyedvectors.Vocab object at 0x7f79ac115dd0>, 'ต่างประเทศ': <gensim.models.keyedvectors.Vocab object at 0x7f79ac115e10>, 'ความหมาย': <gensim.models.keyedvectors.Vocab object at 0x7f79ac115e50>, 'หมายถึง': <gensim.models.keyedvectors.Vocab object at 0x7f79ac115e90>, '91': <gensim.models.keyedvectors.Vocab object at 0x7f79ac115ed0>, 'ราชธานี': <gensim.models.keyedvectors.Vocab object at 0x7f79ac115f10>, 'มนุษย์': <gensim.models.keyedvectors.Vocab object at 0x7f79ac115f50>, 'อยู่อาศัย': <gensim.models.keyedvectors.Vocab object at 0x7f79ac115f90>, 'ต่อเนื่อง': <gensim.models.keyedvectors.Vocab object at 0x7f79ac115fd0>, 'เก่า': <gensim.models.keyedvectors.Vocab object at 0x7f79ac117050>, '4': <gensim.models.keyedvectors.Vocab object at 0x7f79ac117090>, 'ปลูก': <gensim.models.keyedvectors.Vocab object at 0x7f79ac1170d0>, 'ข้าว': <gensim.models.keyedvectors.Vocab object at 0x7f79ac117110>, 'เก่าแก่': <gensim.models.keyedvectors.Vocab object at 0x7f79ac117150>, 'สำริด': <gensim.models.keyedvectors.Vocab object at 0x7f79ac117190>, 'เกิดขึ้น': <gensim.models.keyedvectors.Vocab object at 0x7f79ac1171d0>, '1,000': <gensim.models.keyedvectors.Vocab object at 0x7f79ac117210>, 'คาด': <gensim.models.keyedvectors.Vocab object at 0x7f79ac117250>, 'มาจาก': <gensim.models.keyedvectors.Vocab object at 0x7f79ac117290>, 'ตอน': <gensim.models.keyedvectors.Vocab object at 0x7f79ac1172d0>, 'จีน': <gensim.models.keyedvectors.Vocab object at 0x7f79ac117310>, 'แหล่ง': <gensim.models.keyedvectors.Vocab object at 0x7f79ac117350>, 'โบราณคดี': <gensim.models.keyedvectors.Vocab object at 0x7f79ac117390>, 'บ้าน': <gensim.models.keyedvectors.Vocab object at 0x7f79ac1173d0>, 'เชียง': <gensim.models.keyedvectors.Vocab object at 0x7f79ac117410>, '26': <gensim.models.keyedvectors.Vocab object at 0x7f79ac117450>, '5': <gensim.models.keyedvectors.Vocab object at 0x7f79ac117490>, 'ฟูนัน': <gensim.models.keyedvectors.Vocab object at 0x7f79ac1174d0>, 'ทรงอำนาจ': <gensim.models.keyedvectors.Vocab object at 0x7f79ac117510>, 'เจริญ': <gensim.models.keyedvectors.Vocab object at 0x7f79ac117550>, 'ศตวรรษ': <gensim.models.keyedvectors.Vocab object at 0x7f79ac117590>, 'มอญ': <gensim.models.keyedvectors.Vocab object at 0x7f79ac1175d0>, 'อาศัย': <gensim.models.keyedvectors.Vocab object at 0x7f79ac117610>, 'ทวารวดี': <gensim.models.keyedvectors.Vocab object at 0x7f79ac117650>, '9': <gensim.models.keyedvectors.Vocab object at 0x7f79ac117690>, '7': <gensim.models.keyedvectors.Vocab object at 0x7f79ac1176d0>, 'ลิงก์': <gensim.models.keyedvectors.Vocab object at 0x7f79ac117710>, 'มลายู': <gensim.models.keyedvectors.Vocab object at 0x7f79ac117750>, 'ควบคุม': <gensim.models.keyedvectors.Vocab object at 0x7f79ac117790>, 'การค้า': <gensim.models.keyedvectors.Vocab object at 0x7f79ac1177d0>, 'ช่องแคบ': <gensim.models.keyedvectors.Vocab object at 0x7f79ac117810>, 'มะละกา': <gensim.models.keyedvectors.Vocab object at 0x7f79ac117850>, '10': <gensim.models.keyedvectors.Vocab object at 0x7f79ac117890>, 'ทวีปเอเชีย': <gensim.models.keyedvectors.Vocab object at 0x7f79ac1178d0>, 'แผ่นดินใหญ่': <gensim.models.keyedvectors.Vocab object at 0x7f79ac117910>, '27': <gensim.models.keyedvectors.Vocab object at 0x7f79ac117950>, 'แนวคิด': <gensim.models.keyedvectors.Vocab object at 0x7f79ac117990>, 'เดวิด': <gensim.models.keyedvectors.Vocab object at 0x7f79ac1179d0>, '.': <gensim.models.keyedvectors.Vocab object at 0x7f79ac117a10>, 'ระบุ': <gensim.models.keyedvectors.Vocab object at 0x7f79ac117a50>, 'บรรพบุรุษ': <gensim.models.keyedvectors.Vocab object at 0x7f79ac117a90>, 'ในประเทศ': <gensim.models.keyedvectors.Vocab object at 0x7f79ac117ad0>, 'อินเดีย': <gensim.models.keyedvectors.Vocab object at 0x7f79ac117b10>, 'แถบ': <gensim.models.keyedvectors.Vocab object at 0x7f79ac117b50>, '28': <gensim.models.keyedvectors.Vocab object at 0x7f79ac117b90>, 'วัฒนธรรม': <gensim.models.keyedvectors.Vocab object at 0x7f79ac117bd0>, 'อิทธิพล': <gensim.models.keyedvectors.Vocab object at 0x7f79ac117c10>, '29': <gensim.models.keyedvectors.Vocab object at 0x7f79ac117c50>, 'ข': <gensim.models.keyedvectors.Vocab object at 0x7f79ac117c90>, 'แมร์': <gensim.models.keyedvectors.Vocab object at 0x7f79ac117cd0>, 'พุกาม': <gensim.models.keyedvectors.Vocab object at 0x7f79ac117d10>, 'ต้น': <gensim.models.keyedvectors.Vocab object at 0x7f79ac117d50>, 'จำนวนมาก': <gensim.models.keyedvectors.Vocab object at 0x7f79ac117d90>, 'กิน': <gensim.models.keyedvectors.Vocab object at 0x7f79ac117dd0>, 'คาบสมุทร': <gensim.models.keyedvectors.Vocab object at 0x7f79ac117e10>, '38': <gensim.models.keyedvectors.Vocab object at 0x7f79ac117e50>, 'มั่นคง': <gensim.models.keyedvectors.Vocab object at 0x7f79ac117e90>, 'ลพบุรี': <gensim.models.keyedvectors.Vocab object at 0x7f79ac117ed0>, 'นครศรีธรรมราช': <gensim.models.keyedvectors.Vocab object at 0x7f79ac117f10>, 'คริสต์': <gensim.models.keyedvectors.Vocab object at 0x7f79ac117f50>, 'พ่อขุน': <gensim.models.keyedvectors.Vocab object at 0x7f79ac117f90>, 'กบฏ': <gensim.models.keyedvectors.Vocab object at 0x7f79ac117fd0>, 'พระมหากษัตริย์': <gensim.models.keyedvectors.Vocab object at 0x7f79ac119050>, '52': <gensim.models.keyedvectors.Vocab object at 0x7f79ac119090>, '3': <gensim.models.keyedvectors.Vocab object at 0x7f79ac1190d0>, 'รามคำแหง': <gensim.models.keyedvectors.Vocab object at 0x7f79ac119110>, 'น่าน': <gensim.models.keyedvectors.Vocab object at 0x7f79ac119150>, 'มะ': <gensim.models.keyedvectors.Vocab object at 0x7f79ac119190>, 'ทิศตะวันตก': <gensim.models.keyedvectors.Vocab object at 0x7f79ac1191d0>, '55': <gensim.models.keyedvectors.Vocab object at 0x7f79ac119210>, 'อย่างไรก็ดี': <gensim.models.keyedvectors.Vocab object at 0x7f79ac119250>, 'สวามิภักดิ์': <gensim.models.keyedvectors.Vocab object at 0x7f79ac119290>, 'ท้องถิ่น': <gensim.models.keyedvectors.Vocab object at 0x7f79ac1192d0>, 'ประดิษฐ์': <gensim.models.keyedvectors.Vocab object at 0x7f79ac119310>, 'อักษร': <gensim.models.keyedvectors.Vocab object at 0x7f79ac119350>, 'สินค้าออก': <gensim.models.keyedvectors.Vocab object at 0x7f79ac119390>, 'เสถียรภาพ': <gensim.models.keyedvectors.Vocab object at 0x7f79ac1193d0>, 'สวรรคต': <gensim.models.keyedvectors.Vocab object at 0x7f79ac119410>, 'ศาสนาพุทธ': <gensim.models.keyedvectors.Vocab object at 0x7f79ac119450>, 'นิกาย': <gensim.models.keyedvectors.Vocab object at 0x7f79ac119490>, 'เถรวาท': <gensim.models.keyedvectors.Vocab object at 0x7f79ac1194d0>, 'เหนือ': <gensim.models.keyedvectors.Vocab object at 0x7f79ac119510>, 'ขึ้นไป': <gensim.models.keyedvectors.Vocab object at 0x7f79ac119550>, 'พญา': <gensim.models.keyedvectors.Vocab object at 0x7f79ac119590>, 'สืบราชสมบัติ': <gensim.models.keyedvectors.Vocab object at 0x7f79ac1195d0>, 'เงิน': <gensim.models.keyedvectors.Vocab object at 0x7f79ac119610>, 'ยาง': <gensim.models.keyedvectors.Vocab object at 0x7f79ac119650>, 'เชียงใหม่': <gensim.models.keyedvectors.Vocab object at 0x7f79ac119690>, 'ลุ่ม': <gensim.models.keyedvectors.Vocab object at 0x7f79ac1196d0>, 'แม่น้ำ': <gensim.models.keyedvectors.Vocab object at 0x7f79ac119710>, 'ปิง': <gensim.models.keyedvectors.Vocab object at 0x7f79ac119750>, 'สร้าง': <gensim.models.keyedvectors.Vocab object at 0x7f79ac119790>, 'เครือข่าย': <gensim.models.keyedvectors.Vocab object at 0x7f79ac1197d0>, 'ทางการ': <gensim.models.keyedvectors.Vocab object at 0x7f79ac119810>, 'โขง': <gensim.models.keyedvectors.Vocab object at 0x7f79ac119850>, '30': <gensim.models.keyedvectors.Vocab object at 0x7f79ac119890>, 'เมืองท่า': <gensim.models.keyedvectors.Vocab object at 0x7f79ac1198d0>, 'เจ้าพระยา': <gensim.models.keyedvectors.Vocab object at 0x7f79ac119910>, 'สุพรรณบุรี': <gensim.models.keyedvectors.Vocab object at 0x7f79ac119950>, 'ที่อยู่': <gensim.models.keyedvectors.Vocab object at 0x7f79ac119990>, 'อู่': <gensim.models.keyedvectors.Vocab object at 0x7f79ac1199d0>, 'ทอง': <gensim.models.keyedvectors.Vocab object at 0x7f79ac119a10>, 'ก่อตั้ง': <gensim.models.keyedvectors.Vocab object at 0x7f79ac119a50>, '31': <gensim.models.keyedvectors.Vocab object at 0x7f79ac119a90>, 'ลักษณะ': <gensim.models.keyedvectors.Vocab object at 0x7f79ac119ad0>, 'บรรณาการ': <gensim.models.keyedvectors.Vocab object at 0x7f79ac119b10>, '32': <gensim.models.keyedvectors.Vocab object at 0x7f79ac119b50>, 'ยกทัพ': <gensim.models.keyedvectors.Vocab object at 0x7f79ac119b90>, 'เมืองหลวง': <gensim.models.keyedvectors.Vocab object at 0x7f79ac119bd0>, '33': <gensim.models.keyedvectors.Vocab object at 0x7f79ac119c10>, 'สาม': <gensim.models.keyedvectors.Vocab object at 0x7f79ac119c50>, 'ประเทศราช': <gensim.models.keyedvectors.Vocab object at 0x7f79ac119c90>, 'ตามลำดับ': <gensim.models.keyedvectors.Vocab object at 0x7f79ac119cd0>, 'บรม': <gensim.models.keyedvectors.Vocab object at 0x7f79ac119d10>, 'ปฏิรูป': <gensim.models.keyedvectors.Vocab object at 0x7f79ac119d50>, 'บางส่วน': <gensim.models.keyedvectors.Vocab object at 0x7f79ac119d90>, 'ก่อให้เกิด': <gensim.models.keyedvectors.Vocab object at 0x7f79ac119dd0>, 'ไพร่': <gensim.models.keyedvectors.Vocab object at 0x7f79ac119e10>, 'แรงงาน': <gensim.models.keyedvectors.Vocab object at 0x7f79ac119e50>, 'เกณฑ์': <gensim.models.keyedvectors.Vocab object at 0x7f79ac119e90>, 'หก': <gensim.models.keyedvectors.Vocab object at 0x7f79ac119ed0>, 'เดือน': <gensim.models.keyedvectors.Vocab object at 0x7f79ac119f10>, '34': <gensim.models.keyedvectors.Vocab object at 0x7f79ac119f50>, '107': <gensim.models.keyedvectors.Vocab object at 0x7f79ac119f90>, 'ประสบความสำเร็จ': <gensim.models.keyedvectors.Vocab object at 0x7f79ac119fd0>, 'ยึดครอง': <gensim.models.keyedvectors.Vocab object at 0x7f79ac11c050>, '131': <gensim.models.keyedvectors.Vocab object at 0x7f79ac11c090>, 'เป็นใหญ่': <gensim.models.keyedvectors.Vocab object at 0x7f79ac11c0d0>, 'ทั้งสอง': <gensim.models.keyedvectors.Vocab object at 0x7f79ac11c110>, 'ตองอู': <gensim.models.keyedvectors.Vocab object at 0x7f79ac11c150>, 'มีอำนาจ': <gensim.models.keyedvectors.Vocab object at 0x7f79ac11c190>, 'ขยาย': <gensim.models.keyedvectors.Vocab object at 0x7f79ac11c1d0>, '146': <gensim.models.keyedvectors.Vocab object at 0x7f79ac11c210>, 'ภาวะ': <gensim.models.keyedvectors.Vocab object at 0x7f79ac11c250>, 'ครอบงำ': <gensim.models.keyedvectors.Vocab object at 0x7f79ac11c290>, 'ความสัมพันธ์': <gensim.models.keyedvectors.Vocab object at 0x7f79ac11c2d0>, 'ยุโรป': <gensim.models.keyedvectors.Vocab object at 0x7f79ac11c310>, '164': <gensim.models.keyedvectors.Vocab object at 0x7f79ac11c350>, 'ระหว่างประเทศ': <gensim.models.keyedvectors.Vocab object at 0x7f79ac11c390>, 'การทูต': <gensim.models.keyedvectors.Vocab object at 0x7f79ac11c3d0>, 'อังกฤษ': <gensim.models.keyedvectors.Vocab object at 0x7f79ac11c410>, 'เอเชีย': <gensim.models.keyedvectors.Vocab object at 0x7f79ac11c450>, 'ix': <gensim.models.keyedvectors.Vocab object at 0x7f79ac11c490>, 'เพิ่มขึ้น': <gensim.models.keyedvectors.Vocab object at 0x7f79ac11c4d0>, 'ต่างชาติ': <gensim.models.keyedvectors.Vocab object at 0x7f79ac11c510>, '185': <gensim.models.keyedvectors.Vocab object at 0x7f79ac11c550>, 'เผยแผ่': <gensim.models.keyedvectors.Vocab object at 0x7f79ac11c590>, 'ศาสนา': <gensim.models.keyedvectors.Vocab object at 0x7f79ac11c5d0>, '186': <gensim.models.keyedvectors.Vocab object at 0x7f79ac11c610>, 'บ้านเมือง': <gensim.models.keyedvectors.Vocab object at 0x7f79ac11c650>, 'ดี': <gensim.models.keyedvectors.Vocab object at 0x7f79ac11c690>, '84': <gensim.models.keyedvectors.Vocab object at 0x7f79ac11c6d0>, 'ความขัดแย้ง': <gensim.models.keyedvectors.Vocab object at 0x7f79ac11c710>, 'ลอง': <gensim.models.keyedvectors.Vocab object at 0x7f79ac11c750>, 'ที่สอง': <gensim.models.keyedvectors.Vocab object at 0x7f79ac11c790>, '150': <gensim.models.keyedvectors.Vocab object at 0x7f79ac11c7d0>, '35': <gensim.models.keyedvectors.Vocab object at 0x7f79ac11c810>, 'ขับไล่': <gensim.models.keyedvectors.Vocab object at 0x7f79ac11c850>, 'ย้าย': <gensim.models.keyedvectors.Vocab object at 0x7f79ac11c890>, 'ออกจาก': <gensim.models.keyedvectors.Vocab object at 0x7f79ac11c8d0>, '225': <gensim.models.keyedvectors.Vocab object at 0x7f79ac11c910>, 'ยึด': <gensim.models.keyedvectors.Vocab object at 0x7f79ac11c950>, 'เวียงจันทน์': <gensim.models.keyedvectors.Vocab object at 0x7f79ac11c990>, '227': <gensim.models.keyedvectors.Vocab object at 0x7f79ac11c9d0>, 'กษัตริย์': <gensim.models.keyedvectors.Vocab object at 0x7f79ac11ca10>, 'ป้องกัน': <gensim.models.keyedvectors.Vocab object at 0x7f79ac11ca50>, 'ยุติ': <gensim.models.keyedvectors.Vocab object at 0x7f79ac11ca90>, 'ครอง': <gensim.models.keyedvectors.Vocab object at 0x7f79ac11cad0>, 'พื้นที่': <gensim.models.keyedvectors.Vocab object at 0x7f79ac11cb10>, '36': <gensim.models.keyedvectors.Vocab object at 0x7f79ac11cb50>, 'จอห์น': <gensim.models.keyedvectors.Vocab object at 0x7f79ac11cb90>, 'เจรจา': <gensim.models.keyedvectors.Vocab object at 0x7f79ac11cbd0>, 'ความตกลง': <gensim.models.keyedvectors.Vocab object at 0x7f79ac11cc10>, 'สัญญาณ': <gensim.models.keyedvectors.Vocab object at 0x7f79ac11cc50>, 'ปัญหา': <gensim.models.keyedvectors.Vocab object at 0x7f79ac11cc90>, '37': <gensim.models.keyedvectors.Vocab object at 0x7f79ac11ccd0>, 'ลงนาม': <gensim.models.keyedvectors.Vocab object at 0x7f79ac11cd10>, 'นี': <gensim.models.keyedvectors.Vocab object at 0x7f79ac11cd50>, 'ชัย': <gensim.models.keyedvectors.Vocab object at 0x7f79ac11cd90>, '281': <gensim.models.keyedvectors.Vocab object at 0x7f79ac11cdd0>, 'บุก': <gensim.models.keyedvectors.Vocab object at 0x7f79ac11ce10>, 'ปราบปราม': <gensim.models.keyedvectors.Vocab object at 0x7f79ac11ce50>, 'เขต': <gensim.models.keyedvectors.Vocab object at 0x7f79ac11ce90>, 'ที่ราบสูง': <gensim.models.keyedvectors.Vocab object at 0x7f79ac11ced0>, 'โคราช': <gensim.models.keyedvectors.Vocab object at 0x7f79ac11cf10>, 'ทำสงคราม': <gensim.models.keyedvectors.Vocab object at 0x7f79ac11cf50>, 'แย่งชิง': <gensim.models.keyedvectors.Vocab object at 0x7f79ac11cf90>, 'กลุ่มชาติพันธุ์': <gensim.models.keyedvectors.Vocab object at 0x7f79ac11cfd0>, 'ฐานะ': <gensim.models.keyedvectors.Vocab object at 0x7f79ac11e050>, 'โดยตรง': <gensim.models.keyedvectors.Vocab object at 0x7f79ac11e090>, 'ลด': <gensim.models.keyedvectors.Vocab object at 0x7f79ac11e0d0>, 'ทำ': <gensim.models.keyedvectors.Vocab object at 0x7f79ac11e110>, 'การพัฒนา': <gensim.models.keyedvectors.Vocab object at 0x7f79ac11e150>, 'เสด็จสวรรคต': <gensim.models.keyedvectors.Vocab object at 0x7f79ac11e190>, 'โรค': <gensim.models.keyedvectors.Vocab object at 0x7f79ac11e1d0>, 'เจ้าฟ้า': <gensim.models.keyedvectors.Vocab object at 0x7f79ac11e210>, 'มหา': <gensim.models.keyedvectors.Vocab object at 0x7f79ac11e250>, 'ศรี': <gensim.models.keyedvectors.Vocab object at 0x7f79ac11e290>, 'ศูนย์': <gensim.models.keyedvectors.Vocab object at 0x7f79ac11e2d0>, 'สภา': <gensim.models.keyedvectors.Vocab object at 0x7f79ac11e310>, 'เลิก': <gensim.models.keyedvectors.Vocab object at 0x7f79ac11e350>, 'ยกเลิก': <gensim.models.keyedvectors.Vocab object at 0x7f79ac11e390>, 'วิกฤตการณ์': <gensim.models.keyedvectors.Vocab object at 0x7f79ac11e3d0>, 'ความพยายาม': <gensim.models.keyedvectors.Vocab object at 0x7f79ac11e410>, '80': <gensim.models.keyedvectors.Vocab object at 0x7f79ac11e450>, 'ตะวันออกเฉียงเหนือ': <gensim.models.keyedvectors.Vocab object at 0x7f79ac11e490>, 'ต': <gensim.models.keyedvectors.Vocab object at 0x7f79ac11e4d0>, 'จำนวน': <gensim.models.keyedvectors.Vocab object at 0x7f79ac11e510>, '12': <gensim.models.keyedvectors.Vocab object at 0x7f79ac11e550>, 'ร.ศ.': <gensim.models.keyedvectors.Vocab object at 0x7f79ac11e590>, '112': <gensim.models.keyedvectors.Vocab object at 0x7f79ac11e5d0>, 'เรียกร้อง': <gensim.models.keyedvectors.Vocab object at 0x7f79ac11e610>, 'ฝั่ง': <gensim.models.keyedvectors.Vocab object at 0x7f79ac11e650>, 'บริเตน': <gensim.models.keyedvectors.Vocab object at 0x7f79ac11e690>, 'ตกลง': <gensim.models.keyedvectors.Vocab object at 0x7f79ac11e6d0>, 'รัฐกันชน': <gensim.models.keyedvectors.Vocab object at 0x7f79ac11e710>, '39': <gensim.models.keyedvectors.Vocab object at 0x7f79ac11e750>, 'สิทธิสภาพนอกอาณาเขต': <gensim.models.keyedvectors.Vocab object at 0x7f79ac11e790>, 'หลายครั้ง': <gensim.models.keyedvectors.Vocab object at 0x7f79ac11e7d0>, 'สมัยใหม่': <gensim.models.keyedvectors.Vocab object at 0x7f79ac11e810>, 'หัวเมือง': <gensim.models.keyedvectors.Vocab object at 0x7f79ac11e850>, 'ปัตตานี': <gensim.models.keyedvectors.Vocab object at 0x7f79ac11e890>, 'โบราณ': <gensim.models.keyedvectors.Vocab object at 0x7f79ac11e8d0>, 'แพร่': <gensim.models.keyedvectors.Vocab object at 0x7f79ac11e910>, '130': <gensim.models.keyedvectors.Vocab object at 0x7f79ac11e950>, 'นายทหาร': <gensim.models.keyedvectors.Vocab object at 0x7f79ac11e990>, 'แนว': <gensim.models.keyedvectors.Vocab object at 0x7f79ac11e9d0>, 'เข้าร่วม': <gensim.models.keyedvectors.Vocab object at 0x7f79ac11ea10>, 'สันติภาพ': <gensim.models.keyedvectors.Vocab object at 0x7f79ac11ea50>, 'อิสระ': <gensim.models.keyedvectors.Vocab object at 0x7f79ac11ea90>, 'สืบ': <gensim.models.keyedvectors.Vocab object at 0x7f79ac11ead0>, 'รุนแรง': <gensim.models.keyedvectors.Vocab object at 0x7f79ac11eb10>, 'ภาวะเศรษฐกิจ': <gensim.models.keyedvectors.Vocab object at 0x7f79ac11eb50>, 'ยังมี': <gensim.models.keyedvectors.Vocab object at 0x7f79ac11eb90>, 'รายจ่าย': <gensim.models.keyedvectors.Vocab object at 0x7f79ac11ebd0>, 'ภาครัฐ': <gensim.models.keyedvectors.Vocab object at 0x7f79ac11ec10>, 'หมู่': <gensim.models.keyedvectors.Vocab object at 0x7f79ac11ec50>, 'อภิชน': <gensim.models.keyedvectors.Vocab object at 0x7f79ac11ec90>, 'สมบูรณาญาสิทธิราชย์': <gensim.models.keyedvectors.Vocab object at 0x7f79ac11ecd0>, 'ระบอบประชาธิปไตย': <gensim.models.keyedvectors.Vocab object at 0x7f79ac11ed10>, 'ปลายปี': <gensim.models.keyedvectors.Vocab object at 0x7f79ac11ed50>, 'เดช': <gensim.models.keyedvectors.Vocab object at 0x7f79ac11ed90>, 'หวัง': <gensim.models.keyedvectors.Vocab object at 0x7f79ac11edd0>, 'สมบูรณาญาสิทธิราช': <gensim.models.keyedvectors.Vocab object at 0x7f79ac11ee10>, '2478': <gensim.models.keyedvectors.Vocab object at 0x7f79ac11ee50>, 'สภาผู้แทนราษฎร': <gensim.models.keyedvectors.Vocab object at 0x7f79ac11ee90>, 'เลือก': <gensim.models.keyedvectors.Vocab object at 0x7f79ac11eed0>, 'อานันทมหิดล': <gensim.models.keyedvectors.Vocab object at 0x7f79ac11ef10>, 'ศึกษา': <gensim.models.keyedvectors.Vocab object at 0x7f79ac11ef50>, 'ธันวาคม': <gensim.models.keyedvectors.Vocab object at 0x7f79ac11ef90>, 'พลตรี': <gensim.models.keyedvectors.Vocab object at 0x7f79ac11efd0>, 'หลวง': <gensim.models.keyedvectors.Vocab object at 0x7f79ac120050>, 'ขนาดย่อม': <gensim.models.keyedvectors.Vocab object at 0x7f79ac120090>, 'ญี่ปุ่น': <gensim.models.keyedvectors.Vocab object at 0x7f79ac1200d0>, 'ทางทหาร': <gensim.models.keyedvectors.Vocab object at 0x7f79ac120110>, '465': <gensim.models.keyedvectors.Vocab object at 0x7f79ac120150>, 'สถานะ': <gensim.models.keyedvectors.Vocab object at 0x7f79ac120190>, '2489': <gensim.models.keyedvectors.Vocab object at 0x7f79ac1201d0>, 'ยา': <gensim.models.keyedvectors.Vocab object at 0x7f79ac120210>, 'ภูมิพล': <gensim.models.keyedvectors.Vocab object at 0x7f79ac120250>, '2490': <gensim.models.keyedvectors.Vocab object at 0x7f79ac120290>, 'นิยม': <gensim.models.keyedvectors.Vocab object at 0x7f79ac1202d0>, ',': <gensim.models.keyedvectors.Vocab object at 0x7f79ac120310>, 'เผ่า': <gensim.models.keyedvectors.Vocab object at 0x7f79ac120350>, 'นนท์': <gensim.models.keyedvectors.Vocab object at 0x7f79ac120390>, 'องค์การ': <gensim.models.keyedvectors.Vocab object at 0x7f79ac1203d0>, 'สภาพ': <gensim.models.keyedvectors.Vocab object at 0x7f79ac120410>, 'โครงสร้างพื้นฐาน': <gensim.models.keyedvectors.Vocab object at 0x7f79ac120450>, 'การศึกษา': <gensim.models.keyedvectors.Vocab object at 0x7f79ac120490>, 'เวียดนาม': <gensim.models.keyedvectors.Vocab object at 0x7f79ac1204d0>, 'สัญญา': <gensim.models.keyedvectors.Vocab object at 0x7f79ac120510>, 'คุ้มครอง': <gensim.models.keyedvectors.Vocab object at 0x7f79ac120550>, 'สังคม': <gensim.models.keyedvectors.Vocab object at 0x7f79ac120590>, 'ชนบท': <gensim.models.keyedvectors.Vocab object at 0x7f79ac1205d0>, 'งาน': <gensim.models.keyedvectors.Vocab object at 0x7f79ac120610>, 'เรื่อง': <gensim.models.keyedvectors.Vocab object at 0x7f79ac120650>, 'ชนชั้น': <gensim.models.keyedvectors.Vocab object at 0x7f79ac120690>, 'พรรค': <gensim.models.keyedvectors.Vocab object at 0x7f79ac1206d0>, 'ชนชั้นกลาง': <gensim.models.keyedvectors.Vocab object at 0x7f79ac120710>, 'สำหรับ': <gensim.models.keyedvectors.Vocab object at 0x7f79ac120750>, 'ตุลาคม': <gensim.models.keyedvectors.Vocab object at 0x7f79ac120790>, 'ชุมนุม': <gensim.models.keyedvectors.Vocab object at 0x7f79ac1207d0>, 'เผด็จการ': <gensim.models.keyedvectors.Vocab object at 0x7f79ac120810>, 'สลาย': <gensim.models.keyedvectors.Vocab object at 0x7f79ac120850>, 'ผู้เสียชีวิต': <gensim.models.keyedvectors.Vocab object at 0x7f79ac120890>, 'พระบาทสมเด็จพระปรมินทรมหาภูมิพลอดุลยเดช': <gensim.models.keyedvectors.Vocab object at 0x7f79ac1208d0>, 'แต่งตั้ง': <gensim.models.keyedvectors.Vocab object at 0x7f79ac120910>, 'ธรรม': <gensim.models.keyedvectors.Vocab object at 0x7f79ac120950>, 'ศักดิ์': <gensim.models.keyedvectors.Vocab object at 0x7f79ac120990>, 'กิจกรรม': <gensim.models.keyedvectors.Vocab object at 0x7f79ac1209d0>, 'เสรีภาพ': <gensim.models.keyedvectors.Vocab object at 0x7f79ac120a10>, 'การแสดงออก': <gensim.models.keyedvectors.Vocab object at 0x7f79ac120a50>, 'วรรณกรรม': <gensim.models.keyedvectors.Vocab object at 0x7f79ac120a90>, 'รัฐบาลผสม': <gensim.models.keyedvectors.Vocab object at 0x7f79ac120ad0>, 'หม่อมราชวงศ์': <gensim.models.keyedvectors.Vocab object at 0x7f79ac120b10>, 'ปราโมช': <gensim.models.keyedvectors.Vocab object at 0x7f79ac120b50>, 'ชนะ': <gensim.models.keyedvectors.Vocab object at 0x7f79ac120b90>, 'สถาบัน': <gensim.models.keyedvectors.Vocab object at 0x7f79ac120bd0>, 'นักศึกษา': <gensim.models.keyedvectors.Vocab object at 0x7f79ac120c10>, 'ฝ่ายซ้าย': <gensim.models.keyedvectors.Vocab object at 0x7f79ac120c50>, 'ชี้นำ': <gensim.models.keyedvectors.Vocab object at 0x7f79ac120c90>, '548': <gensim.models.keyedvectors.Vocab object at 0x7f79ac120cd0>, '\"[': <gensim.models.keyedvectors.Vocab object at 0x7f79ac120d10>, 'ปิดกั้น': <gensim.models.keyedvectors.Vocab object at 0x7f79ac120d50>, 'ใช้อำนาจ': <gensim.models.keyedvectors.Vocab object at 0x7f79ac120d90>, '552': <gensim.models.keyedvectors.Vocab object at 0x7f79ac120dd0>, 'เคลื่อนไหว': <gensim.models.keyedvectors.Vocab object at 0x7f79ac120e10>, 'พลเอก': <gensim.models.keyedvectors.Vocab object at 0x7f79ac120e50>, 'ชายแดน': <gensim.models.keyedvectors.Vocab object at 0x7f79ac120e90>, 'เปรม': <gensim.models.keyedvectors.Vocab object at 0x7f79ac120ed0>, '2523': <gensim.models.keyedvectors.Vocab object at 0x7f79ac120f10>, '60': <gensim.models.keyedvectors.Vocab object at 0x7f79ac120f50>, 'ทั่วไป': <gensim.models.keyedvectors.Vocab object at 0x7f79ac120f90>, 'สมาชิก': <gensim.models.keyedvectors.Vocab object at 0x7f79ac120fd0>, 'วุฒิสภา': <gensim.models.keyedvectors.Vocab object at 0x7f79ac122050>, 'ชาย': <gensim.models.keyedvectors.Vocab object at 0x7f79ac122090>, 'ยึดอำนาจ': <gensim.models.keyedvectors.Vocab object at 0x7f79ac1220d0>, 'กุมภาพันธ์': <gensim.models.keyedvectors.Vocab object at 0x7f79ac122110>, '2534': <gensim.models.keyedvectors.Vocab object at 0x7f79ac122150>, 'สุ': <gensim.models.keyedvectors.Vocab object at 0x7f79ac122190>, 'จินดา': <gensim.models.keyedvectors.Vocab object at 0x7f79ac1221d0>, 'ประท้วง': <gensim.models.keyedvectors.Vocab object at 0x7f79ac122210>, 'แกนนำ': <gensim.models.keyedvectors.Vocab object at 0x7f79ac122250>, 'ผู้ประท้วง': <gensim.models.keyedvectors.Vocab object at 0x7f79ac122290>, 'ต้มยำกุ้ง': <gensim.models.keyedvectors.Vocab object at 0x7f79ac1222d0>, 'เติบโต': <gensim.models.keyedvectors.Vocab object at 0x7f79ac122310>, '40': <gensim.models.keyedvectors.Vocab object at 0x7f79ac122350>, 'เทียบ': <gensim.models.keyedvectors.Vocab object at 0x7f79ac122390>, '576': <gensim.models.keyedvectors.Vocab object at 0x7f79ac1223d0>, 'กองทุน': <gensim.models.keyedvectors.Vocab object at 0x7f79ac122410>, 'การเงิน': <gensim.models.keyedvectors.Vocab object at 0x7f79ac122450>, 'คนรวย': <gensim.models.keyedvectors.Vocab object at 0x7f79ac122490>, 'ฉ้อราษฎร์บังหลวง': <gensim.models.keyedvectors.Vocab object at 0x7f79ac1224d0>, '2544': <gensim.models.keyedvectors.Vocab object at 0x7f79ac122510>, 'ความยากจน': <gensim.models.keyedvectors.Vocab object at 0x7f79ac122550>, '41': <gensim.models.keyedvectors.Vocab object at 0x7f79ac122590>, 'สุขภาพ': <gensim.models.keyedvectors.Vocab object at 0x7f79ac1225d0>, 'ถ้วนหน้า': <gensim.models.keyedvectors.Vocab object at 0x7f79ac122610>, 'ฐาน': <gensim.models.keyedvectors.Vocab object at 0x7f79ac122650>, 'คนยากจน': <gensim.models.keyedvectors.Vocab object at 0x7f79ac122690>, '2547': <gensim.models.keyedvectors.Vocab object at 0x7f79ac1226d0>, 'พัด': <gensim.models.keyedvectors.Vocab object at 0x7f79ac122710>, 'ภาคใต้': <gensim.models.keyedvectors.Vocab object at 0x7f79ac122750>, '2548': <gensim.models.keyedvectors.Vocab object at 0x7f79ac122790>, 'ดำรงตำแหน่ง': <gensim.models.keyedvectors.Vocab object at 0x7f79ac1227d0>, 'สิทธิ': <gensim.models.keyedvectors.Vocab object at 0x7f79ac122810>, 'พธม.': <gensim.models.keyedvectors.Vocab object at 0x7f79ac122850>, 'ตำแหน่ง': <gensim.models.keyedvectors.Vocab object at 0x7f79ac122890>, 'ล้ม': <gensim.models.keyedvectors.Vocab object at 0x7f79ac1228d0>, 'กันยายน': <gensim.models.keyedvectors.Vocab object at 0x7f79ac122910>, '2549': <gensim.models.keyedvectors.Vocab object at 0x7f79ac122950>, '2550': <gensim.models.keyedvectors.Vocab object at 0x7f79ac122990>, '2551': <gensim.models.keyedvectors.Vocab object at 0x7f79ac1229d0>, 'ท่าอากาศยาน': <gensim.models.keyedvectors.Vocab object at 0x7f79ac122a10>, 'สุวรรณภูมิ': <gensim.models.keyedvectors.Vocab object at 0x7f79ac122a50>, 'ศาลรัฐธรรมนูญ': <gensim.models.keyedvectors.Vocab object at 0x7f79ac122a90>, 'วินิจฉัย': <gensim.models.keyedvectors.Vocab object at 0x7f79ac122ad0>, 'ยุบ': <gensim.models.keyedvectors.Vocab object at 0x7f79ac122b10>, 'แห่งชาติ': <gensim.models.keyedvectors.Vocab object at 0x7f79ac122b50>, '2552': <gensim.models.keyedvectors.Vocab object at 0x7f79ac122b90>, '2553': <gensim.models.keyedvectors.Vocab object at 0x7f79ac122bd0>, '2554': <gensim.models.keyedvectors.Vocab object at 0x7f79ac122c10>, 'ลักษณ์': <gensim.models.keyedvectors.Vocab object at 0x7f79ac122c50>, 'ผู้นำ': <gensim.models.keyedvectors.Vocab object at 0x7f79ac122c90>, 'อุทกภัย': <gensim.models.keyedvectors.Vocab object at 0x7f79ac122cd0>, '65': <gensim.models.keyedvectors.Vocab object at 0x7f79ac122d10>, 'ร้ายแรง': <gensim.models.keyedvectors.Vocab object at 0x7f79ac122d50>, 'ปริมาณ': <gensim.models.keyedvectors.Vocab object at 0x7f79ac122d90>, 'น้ำ': <gensim.models.keyedvectors.Vocab object at 0x7f79ac122dd0>, '45': <gensim.models.keyedvectors.Vocab object at 0x7f79ac122e10>, '2556': <gensim.models.keyedvectors.Vocab object at 0x7f79ac122e50>, 'รอบ': <gensim.models.keyedvectors.Vocab object at 0x7f79ac122e90>, 'นิรโทษกรรม': <gensim.models.keyedvectors.Vocab object at 0x7f79ac122ed0>, '46': <gensim.models.keyedvectors.Vocab object at 0x7f79ac122f10>, 'พฤษภาคม': <gensim.models.keyedvectors.Vocab object at 0x7f79ac122f50>, 'โครงสร้าง': <gensim.models.keyedvectors.Vocab object at 0x7f79ac122f90>, 'ประชา': <gensim.models.keyedvectors.Vocab object at 0x7f79ac122fd0>, 'ส่วนท้องถิ่น': <gensim.models.keyedvectors.Vocab object at 0x7f79ac125050>, 'ผู้ดำเนินการ': <gensim.models.keyedvectors.Vocab object at 0x7f79ac125090>, '47': <gensim.models.keyedvectors.Vocab object at 0x7f79ac1250d0>, '2559': <gensim.models.keyedvectors.Vocab object at 0x7f79ac125110>, 'พระบาทสมเด็จพระวชิรเกล้าเจ้าอยู่หัว': <gensim.models.keyedvectors.Vocab object at 0x7f79ac125150>, 'ห้า': <gensim.models.keyedvectors.Vocab object at 0x7f79ac125190>, 'คสช.': <gensim.models.keyedvectors.Vocab object at 0x7f79ac1251d0>, '2563': <gensim.models.keyedvectors.Vocab object at 0x7f79ac125210>, 'มาตรการ': <gensim.models.keyedvectors.Vocab object at 0x7f79ac125250>, 'ระบาด': <gensim.models.keyedvectors.Vocab object at 0x7f79ac125290>, 'โควิด': <gensim.models.keyedvectors.Vocab object at 0x7f79ac1252d0>, 'กลาง': <gensim.models.keyedvectors.Vocab object at 0x7f79ac125310>, '°': <gensim.models.keyedvectors.Vocab object at 0x7f79ac125350>, 'ติ': <gensim.models.keyedvectors.Vocab object at 0x7f79ac125390>, '97': <gensim.models.keyedvectors.Vocab object at 0x7f79ac1253d0>, '106': <gensim.models.keyedvectors.Vocab object at 0x7f79ac125410>, 'พรมแดน': <gensim.models.keyedvectors.Vocab object at 0x7f79ac125450>, 'ติด': <gensim.models.keyedvectors.Vocab object at 0x7f79ac125490>, 'อ่าวไทย': <gensim.models.keyedvectors.Vocab object at 0x7f79ac1254d0>, 'ทะเล': <gensim.models.keyedvectors.Vocab object at 0x7f79ac125510>, 'อันดามัน': <gensim.models.keyedvectors.Vocab object at 0x7f79ac125550>, '51': <gensim.models.keyedvectors.Vocab object at 0x7f79ac125590>, 'รอง': <gensim.models.keyedvectors.Vocab object at 0x7f79ac1255d0>, 'อินโดนีเซีย': <gensim.models.keyedvectors.Vocab object at 0x7f79ac125610>, 'เมียนมาร์': <gensim.models.keyedvectors.Vocab object at 0x7f79ac125650>, 'กฎหมาย': <gensim.models.keyedvectors.Vocab object at 0x7f79ac125690>, 'ค.ศ.': <gensim.models.keyedvectors.Vocab object at 0x7f79ac1256d0>, 'ฝั่งทะเล': <gensim.models.keyedvectors.Vocab object at 0x7f79ac125710>, 'กิโลเมตร': <gensim.models.keyedvectors.Vocab object at 0x7f79ac125750>, 'ภาคเหนือ': <gensim.models.keyedvectors.Vocab object at 0x7f79ac125790>, 'ภูเขา': <gensim.models.keyedvectors.Vocab object at 0x7f79ac1257d0>, 'จุด': <gensim.models.keyedvectors.Vocab object at 0x7f79ac125810>, 'ป่าไม้': <gensim.models.keyedvectors.Vocab object at 0x7f79ac125850>, 'อันเป็น': <gensim.models.keyedvectors.Vocab object at 0x7f79ac125890>, 'แห้งแล้ง': <gensim.models.keyedvectors.Vocab object at 0x7f79ac1258d0>, 'เพาะปลูก': <gensim.models.keyedvectors.Vocab object at 0x7f79ac125910>, 'ไหล': <gensim.models.keyedvectors.Vocab object at 0x7f79ac125950>, 'ถือได้ว่า': <gensim.models.keyedvectors.Vocab object at 0x7f79ac125990>, '103': <gensim.models.keyedvectors.Vocab object at 0x7f79ac1259d0>, 'ทะเลสาบ': <gensim.models.keyedvectors.Vocab object at 0x7f79ac125a10>, 'ตะวัน': <gensim.models.keyedvectors.Vocab object at 0x7f79ac125a50>, 'หุบเขา': <gensim.models.keyedvectors.Vocab object at 0x7f79ac125a90>, 'ภูมิอากาศ': <gensim.models.keyedvectors.Vocab object at 0x7f79ac125ad0>, 'ร้อน': <gensim.models.keyedvectors.Vocab object at 0x7f79ac125b10>, 'เขตร้อน': <gensim.models.keyedvectors.Vocab object at 0x7f79ac125b50>, 'แบ่ง': <gensim.models.keyedvectors.Vocab object at 0x7f79ac125b90>, 'มรสุม': <gensim.models.keyedvectors.Vocab object at 0x7f79ac125bd0>, 'อุณหภูมิ': <gensim.models.keyedvectors.Vocab object at 0x7f79ac125c10>, 'เฉลี่ย': <gensim.models.keyedvectors.Vocab object at 0x7f79ac125c50>, 'c': <gensim.models.keyedvectors.Vocab object at 0x7f79ac125c90>, 'ฤดูกาล': <gensim.models.keyedvectors.Vocab object at 0x7f79ac125cd0>, 'ฤดู': <gensim.models.keyedvectors.Vocab object at 0x7f79ac125d10>, 'ตะวันตกเฉียงใต้': <gensim.models.keyedvectors.Vocab object at 0x7f79ac125d50>, 'กลางเดือน': <gensim.models.keyedvectors.Vocab object at 0x7f79ac125d90>, 'ฝน': <gensim.models.keyedvectors.Vocab object at 0x7f79ac125dd0>, 'ตกหนัก': <gensim.models.keyedvectors.Vocab object at 0x7f79ac125e10>, '53': <gensim.models.keyedvectors.Vocab object at 0x7f79ac125e50>, 'ฤดูหนาว': <gensim.models.keyedvectors.Vocab object at 0x7f79ac125e90>, 'อากาศ': <gensim.models.keyedvectors.Vocab object at 0x7f79ac125ed0>, 'ยกเว้น': <gensim.models.keyedvectors.Vocab object at 0x7f79ac125f10>, 'โดยเฉพาะอย่างยิ่ง': <gensim.models.keyedvectors.Vocab object at 0x7f79ac125f50>, 'พฤศจิกายน': <gensim.models.keyedvectors.Vocab object at 0x7f79ac125f90>, 'ฤดูร้อน': <gensim.models.keyedvectors.Vocab object at 0x7f79ac125fd0>, 'มีนาคม': <gensim.models.keyedvectors.Vocab object at 0x7f79ac127050>, 'ลม': <gensim.models.keyedvectors.Vocab object at 0x7f79ac127090>, 'เย็น': <gensim.models.keyedvectors.Vocab object at 0x7f79ac1270d0>, 'ต่ำ': <gensim.models.keyedvectors.Vocab object at 0x7f79ac127110>, 'ต่ำกว่า': <gensim.models.keyedvectors.Vocab object at 0x7f79ac127150>, 'ความแตกต่าง': <gensim.models.keyedvectors.Vocab object at 0x7f79ac127190>, '1,200': <gensim.models.keyedvectors.Vocab object at 0x7f79ac1271d0>, 'มิลลิเมตร': <gensim.models.keyedvectors.Vocab object at 0x7f79ac127210>, 'รับลม': <gensim.models.keyedvectors.Vocab object at 0x7f79ac127250>, 'มกราคม': <gensim.models.keyedvectors.Vocab object at 0x7f79ac127290>, 'ความหลากหลาย': <gensim.models.keyedvectors.Vocab object at 0x7f79ac1272d0>, 'พืช': <gensim.models.keyedvectors.Vocab object at 0x7f79ac127310>, 'สัตว์': <gensim.models.keyedvectors.Vocab object at 0x7f79ac127350>, 'การผลิต': <gensim.models.keyedvectors.Vocab object at 0x7f79ac127390>, 'เกษตรกรรม': <gensim.models.keyedvectors.Vocab object at 0x7f79ac1273d0>, 'ผลไม้': <gensim.models.keyedvectors.Vocab object at 0x7f79ac127410>, 'ชนิด': <gensim.models.keyedvectors.Vocab object at 0x7f79ac127450>, '%': <gensim.models.keyedvectors.Vocab object at 0x7f79ac127490>, 'รวมไปถึง': <gensim.models.keyedvectors.Vocab object at 0x7f79ac1274d0>, '54': <gensim.models.keyedvectors.Vocab object at 0x7f79ac127510>, 'รักษา': <gensim.models.keyedvectors.Vocab object at 0x7f79ac127550>, 'พันธุ์': <gensim.models.keyedvectors.Vocab object at 0x7f79ac127590>, 'สัตว์ป่า': <gensim.models.keyedvectors.Vocab object at 0x7f79ac1275d0>, 'ห้าม': <gensim.models.keyedvectors.Vocab object at 0x7f79ac127610>, 'ล่า': <gensim.models.keyedvectors.Vocab object at 0x7f79ac127650>, '56': <gensim.models.keyedvectors.Vocab object at 0x7f79ac127690>, '110': <gensim.models.keyedvectors.Vocab object at 0x7f79ac1276d0>, 'สปีชีส์': <gensim.models.keyedvectors.Vocab object at 0x7f79ac127710>, 'นก': <gensim.models.keyedvectors.Vocab object at 0x7f79ac127750>, 'ถิ่น': <gensim.models.keyedvectors.Vocab object at 0x7f79ac127790>, 'ลักลอบ': <gensim.models.keyedvectors.Vocab object at 0x7f79ac1277d0>, 'ล่าสัตว์': <gensim.models.keyedvectors.Vocab object at 0x7f79ac127810>, 'สูญพันธุ์': <gensim.models.keyedvectors.Vocab object at 0x7f79ac127850>, 'ฆ่า': <gensim.models.keyedvectors.Vocab object at 0x7f79ac127890>, 'เสือโคร่ง': <gensim.models.keyedvectors.Vocab object at 0x7f79ac1278d0>, 'แมว': <gensim.models.keyedvectors.Vocab object at 0x7f79ac127910>, 'หนัง': <gensim.models.keyedvectors.Vocab object at 0x7f79ac127950>, 'หลายชนิด': <gensim.models.keyedvectors.Vocab object at 0x7f79ac127990>, 'ชื่อเรื่อง': <gensim.models.keyedvectors.Vocab object at 0x7f79ac1279d0>, 'จำกัด': <gensim.models.keyedvectors.Vocab object at 0x7f79ac127a10>, 'สถานภาพ': <gensim.models.keyedvectors.Vocab object at 0x7f79ac127a50>, 'ประมุข': <gensim.models.keyedvectors.Vocab object at 0x7f79ac127a90>, 'จอมทัพ': <gensim.models.keyedvectors.Vocab object at 0x7f79ac127ad0>, 'บัญญัติ': <gensim.models.keyedvectors.Vocab object at 0x7f79ac127b10>, 'พระราชทาน': <gensim.models.keyedvectors.Vocab object at 0x7f79ac127b50>, 'ประเพณี': <gensim.models.keyedvectors.Vocab object at 0x7f79ac127b90>, 'เคารพ': <gensim.models.keyedvectors.Vocab object at 0x7f79ac127bd0>, 'ความผิด': <gensim.models.keyedvectors.Vocab object at 0x7f79ac127c10>, 'องค์': <gensim.models.keyedvectors.Vocab object at 0x7f79ac127c50>, 'อาชญากรรม': <gensim.models.keyedvectors.Vocab object at 0x7f79ac127c90>, 'โดยพฤตินัย': <gensim.models.keyedvectors.Vocab object at 0x7f79ac127cd0>, 'เป็นเวลา': <gensim.models.keyedvectors.Vocab object at 0x7f79ac127d10>, '85': <gensim.models.keyedvectors.Vocab object at 0x7f79ac127d50>, '59': <gensim.models.keyedvectors.Vocab object at 0x7f79ac127d90>, 'รูปแบบ': <gensim.models.keyedvectors.Vocab object at 0x7f79ac127dd0>, 'องค์กร': <gensim.models.keyedvectors.Vocab object at 0x7f79ac127e10>, 'บริหาร': <gensim.models.keyedvectors.Vocab object at 0x7f79ac127e50>, 'ดังนี้': <gensim.models.keyedvectors.Vocab object at 0x7f79ac127e90>, 'พรรคการเมือง': <gensim.models.keyedvectors.Vocab object at 0x7f79ac127ed0>, ')[': <gensim.models.keyedvectors.Vocab object at 0x7f79ac127f10>, '62': <gensim.models.keyedvectors.Vocab object at 0x7f79ac127f50>, 'พ.ศ.': <gensim.models.keyedvectors.Vocab object at 0x7f79ac127f90>, 'ระดับ': <gensim.models.keyedvectors.Vocab object at 0x7f79ac127fd0>, 'เขตการปกครอง': <gensim.models.keyedvectors.Vocab object at 0x7f79ac129050>, 'ตำบล': <gensim.models.keyedvectors.Vocab object at 0x7f79ac129090>, 'แยกจาก': <gensim.models.keyedvectors.Vocab object at 0x7f79ac1290d0>, '63': <gensim.models.keyedvectors.Vocab object at 0x7f79ac129110>, 'คลิก': <gensim.models.keyedvectors.Vocab object at 0x7f79ac129150>, 'บทความ': <gensim.models.keyedvectors.Vocab object at 0x7f79ac129190>, '64': <gensim.models.keyedvectors.Vocab object at 0x7f79ac1291d0>, 'ตอนต้น': <gensim.models.keyedvectors.Vocab object at 0x7f79ac129210>, 'เผชิญ': <gensim.models.keyedvectors.Vocab object at 0x7f79ac129250>, 'การลงนาม': <gensim.models.keyedvectors.Vocab object at 0x7f79ac129290>, 'สร้างความสัมพันธ์': <gensim.models.keyedvectors.Vocab object at 0x7f79ac1292d0>, 'พหุภาคี': <gensim.models.keyedvectors.Vocab object at 0x7f79ac129310>, 'ไม้': <gensim.models.keyedvectors.Vocab object at 0x7f79ac129350>, 'ไผ่': <gensim.models.keyedvectors.Vocab object at 0x7f79ac129390>, '214': <gensim.models.keyedvectors.Vocab object at 0x7f79ac1293d0>, 'ฐานทัพ': <gensim.models.keyedvectors.Vocab object at 0x7f79ac129410>, '216': <gensim.models.keyedvectors.Vocab object at 0x7f79ac129450>, 'สมาคม': <gensim.models.keyedvectors.Vocab object at 0x7f79ac129490>, 'ประชาชาติ': <gensim.models.keyedvectors.Vocab object at 0x7f79ac1294d0>, 'เสรี': <gensim.models.keyedvectors.Vocab object at 0x7f79ac129510>, 'เกาหลีใต้': <gensim.models.keyedvectors.Vocab object at 0x7f79ac129550>, 'ออสเตรเลีย': <gensim.models.keyedvectors.Vocab object at 0x7f79ac129590>, 'ความช่วยเหลือ': <gensim.models.keyedvectors.Vocab object at 0x7f79ac1295d0>, 'ทำงาน': <gensim.models.keyedvectors.Vocab object at 0x7f79ac129610>, 'พื้นบ้าน': <gensim.models.keyedvectors.Vocab object at 0x7f79ac129650>, 'อนุ': <gensim.models.keyedvectors.Vocab object at 0x7f79ac129690>, '68': <gensim.models.keyedvectors.Vocab object at 0x7f79ac1296d0>, 'กระทรวงกลาโหม': <gensim.models.keyedvectors.Vocab object at 0x7f79ac129710>, 'ว่าการ': <gensim.models.keyedvectors.Vocab object at 0x7f79ac129750>, 'กองทัพเรือ': <gensim.models.keyedvectors.Vocab object at 0x7f79ac129790>, 'กองทัพอากาศ': <gensim.models.keyedvectors.Vocab object at 0x7f79ac1297d0>, '2558': <gensim.models.keyedvectors.Vocab object at 0x7f79ac129810>, 'เครดิต': <gensim.models.keyedvectors.Vocab object at 0x7f79ac129850>, 'สวิส': <gensim.models.keyedvectors.Vocab object at 0x7f79ac129890>, 'จัดอันดับ': <gensim.models.keyedvectors.Vocab object at 0x7f79ac1298d0>, 'ดัชนี': <gensim.models.keyedvectors.Vocab object at 0x7f79ac129910>, '70': <gensim.models.keyedvectors.Vocab object at 0x7f79ac129950>, 'งบประมาณ': <gensim.models.keyedvectors.Vocab object at 0x7f79ac129990>, 'ปีงบประมาณ': <gensim.models.keyedvectors.Vocab object at 0x7f79ac1299d0>, 'ร้อยละ': <gensim.models.keyedvectors.Vocab object at 0x7f79ac129a10>, '1.5': <gensim.models.keyedvectors.Vocab object at 0x7f79ac129a50>, '71': <gensim.models.keyedvectors.Vocab object at 0x7f79ac129a90>, '][': <gensim.models.keyedvectors.Vocab object at 0x7f79ac129ad0>, 'ทางบก': <gensim.models.keyedvectors.Vocab object at 0x7f79ac129b10>, 'ซื้อ': <gensim.models.keyedvectors.Vocab object at 0x7f79ac129b50>, 'ปัจจัย': <gensim.models.keyedvectors.Vocab object at 0x7f79ac129b90>, 'ภารกิจ': <gensim.models.keyedvectors.Vocab object at 0x7f79ac129bd0>, '74': <gensim.models.keyedvectors.Vocab object at 0x7f79ac129c10>, '135': <gensim.models.keyedvectors.Vocab object at 0x7f79ac129c50>, 'หน้าที่': <gensim.models.keyedvectors.Vocab object at 0x7f79ac129c90>, '75': <gensim.models.keyedvectors.Vocab object at 0x7f79ac129cd0>, 'ความมั่นคง': <gensim.models.keyedvectors.Vocab object at 0x7f79ac129d10>, 'ทางสังคม': <gensim.models.keyedvectors.Vocab object at 0x7f79ac129d50>, 'ทุจริต': <gensim.models.keyedvectors.Vocab object at 0x7f79ac129d90>, 'กรณี': <gensim.models.keyedvectors.Vocab object at 0x7f79ac129dd0>, 'ค้า': <gensim.models.keyedvectors.Vocab object at 0x7f79ac129e10>, 'การปฏิบัติ': <gensim.models.keyedvectors.Vocab object at 0x7f79ac129e50>, 'คดี': <gensim.models.keyedvectors.Vocab object at 0x7f79ac129e90>, 'ทั่วประเทศ': <gensim.models.keyedvectors.Vocab object at 0x7f79ac129ed0>, 'ยาเสพติด': <gensim.models.keyedvectors.Vocab object at 0x7f79ac129f10>, '2546': <gensim.models.keyedvectors.Vocab object at 0x7f79ac129f50>, 'ลดลง': <gensim.models.keyedvectors.Vocab object at 0x7f79ac129f90>, 'บุคคล': <gensim.models.keyedvectors.Vocab object at 0x7f79ac129fd0>, '79': <gensim.models.keyedvectors.Vocab object at 0x7f79ac12b050>, '162': <gensim.models.keyedvectors.Vocab object at 0x7f79ac12b090>, 'อัตรา': <gensim.models.keyedvectors.Vocab object at 0x7f79ac12b0d0>, 'ตำรวจ': <gensim.models.keyedvectors.Vocab object at 0x7f79ac12b110>, 'โดยเฉลี่ย': <gensim.models.keyedvectors.Vocab object at 0x7f79ac12b150>, '163': <gensim.models.keyedvectors.Vocab object at 0x7f79ac12b190>, 'น้ำหนัก': <gensim.models.keyedvectors.Vocab object at 0x7f79ac12b1d0>, 'ชอบด้วยกฎหมาย': <gensim.models.keyedvectors.Vocab object at 0x7f79ac12b210>, 'แปล': <gensim.models.keyedvectors.Vocab object at 0x7f79ac12b250>, 'คะแนน': <gensim.models.keyedvectors.Vocab object at 0x7f79ac12b290>, 'ทดสอบ': <gensim.models.keyedvectors.Vocab object at 0x7f79ac12b2d0>, 'ความหนาแน่น': <gensim.models.keyedvectors.Vocab object at 0x7f79ac12b310>, 'มีปัญหา': <gensim.models.keyedvectors.Vocab object at 0x7f79ac12b350>, 'ปืน': <gensim.models.keyedvectors.Vocab object at 0x7f79ac12b390>, 'เป็นเจ้าของ': <gensim.models.keyedvectors.Vocab object at 0x7f79ac12b3d0>, 'เสียชีวิต': <gensim.models.keyedvectors.Vocab object at 0x7f79ac12b410>, 'รายงาน': <gensim.models.keyedvectors.Vocab object at 0x7f79ac12b450>, 'วิจารณ์': <gensim.models.keyedvectors.Vocab object at 0x7f79ac12b490>, 'สิทธิมนุษยชน': <gensim.models.keyedvectors.Vocab object at 0x7f79ac12b4d0>, '81': <gensim.models.keyedvectors.Vocab object at 0x7f79ac12b510>, 'สถิติ': <gensim.models.keyedvectors.Vocab object at 0x7f79ac12b550>, '2555': <gensim.models.keyedvectors.Vocab object at 0x7f79ac12b590>, 'ทรัพย์สิน': <gensim.models.keyedvectors.Vocab object at 0x7f79ac12b5d0>, '82': <gensim.models.keyedvectors.Vocab object at 0x7f79ac12b610>, 'ชีวิต': <gensim.models.keyedvectors.Vocab object at 0x7f79ac12b650>, 'ร่างกาย': <gensim.models.keyedvectors.Vocab object at 0x7f79ac12b690>, 'แจ้งตำรวจ': <gensim.models.keyedvectors.Vocab object at 0x7f79ac12b6d0>, 'ทางเพศ': <gensim.models.keyedvectors.Vocab object at 0x7f79ac12b710>, 'ผู้ต้องสงสัย': <gensim.models.keyedvectors.Vocab object at 0x7f79ac12b750>, '83': <gensim.models.keyedvectors.Vocab object at 0x7f79ac12b790>, 'ผู้ต้องขัง': <gensim.models.keyedvectors.Vocab object at 0x7f79ac12b7d0>, 'คนใน': <gensim.models.keyedvectors.Vocab object at 0x7f79ac12b810>, 'พิจารณาคดี': <gensim.models.keyedvectors.Vocab object at 0x7f79ac12b850>, 'ศาล': <gensim.models.keyedvectors.Vocab object at 0x7f79ac12b890>, 'พลเรือน': <gensim.models.keyedvectors.Vocab object at 0x7f79ac12b8d0>, 'ทางกฎหมาย': <gensim.models.keyedvectors.Vocab object at 0x7f79ac12b910>, 'ความเสี่ยง': <gensim.models.keyedvectors.Vocab object at 0x7f79ac12b950>, 'กระบวนการ': <gensim.models.keyedvectors.Vocab object at 0x7f79ac12b990>, 'มีชื่อเสียง': <gensim.models.keyedvectors.Vocab object at 0x7f79ac12b9d0>, 'บริษัท': <gensim.models.keyedvectors.Vocab object at 0x7f79ac12ba10>, 'ค่า': <gensim.models.keyedvectors.Vocab object at 0x7f79ac12ba50>, 'อำนวยความสะดวก': <gensim.models.keyedvectors.Vocab object at 0x7f79ac12ba90>, 'ข้าราชการ': <gensim.models.keyedvectors.Vocab object at 0x7f79ac12bad0>, 'การแข่งขัน': <gensim.models.keyedvectors.Vocab object at 0x7f79ac12bb10>, 'ระดับสูง': <gensim.models.keyedvectors.Vocab object at 0x7f79ac12bb50>, 'หมิ่นประมาท': <gensim.models.keyedvectors.Vocab object at 0x7f79ac12bb90>, '86': <gensim.models.keyedvectors.Vocab object at 0x7f79ac12bbd0>, '87': <gensim.models.keyedvectors.Vocab object at 0x7f79ac12bc10>, 'กักขัง': <gensim.models.keyedvectors.Vocab object at 0x7f79ac12bc50>, '95': <gensim.models.keyedvectors.Vocab object at 0x7f79ac12bc90>, '102': <gensim.models.keyedvectors.Vocab object at 0x7f79ac12bcd0>, '177': <gensim.models.keyedvectors.Vocab object at 0x7f79ac12bd10>, 'การส่งออก': <gensim.models.keyedvectors.Vocab object at 0x7f79ac12bd50>, 'สัดส่วน': <gensim.models.keyedvectors.Vocab object at 0x7f79ac12bd90>, '98': <gensim.models.keyedvectors.Vocab object at 0x7f79ac12bdd0>, 'สัด': <gensim.models.keyedvectors.Vocab object at 0x7f79ac12be10>, 'ส่วนต่อ': <gensim.models.keyedvectors.Vocab object at 0x7f79ac12be50>, 'การขนส่ง': <gensim.models.keyedvectors.Vocab object at 0x7f79ac12be90>, 'ส่วนประกอบ': <gensim.models.keyedvectors.Vocab object at 0x7f79ac12bed0>, 'อุตสาหกรรม': <gensim.models.keyedvectors.Vocab object at 0x7f79ac12bf10>, 'อิเล็กทรอนิกส์': <gensim.models.keyedvectors.Vocab object at 0x7f79ac12bf50>, 'นำเข้า': <gensim.models.keyedvectors.Vocab object at 0x7f79ac12bf90>, 'สิงคโปร์': <gensim.models.keyedvectors.Vocab object at 0x7f79ac12bfd0>, '99': <gensim.models.keyedvectors.Vocab object at 0x7f79ac12e050>, 'ส่งออก': <gensim.models.keyedvectors.Vocab object at 0x7f79ac12e090>, '100': <gensim.models.keyedvectors.Vocab object at 0x7f79ac12e0d0>, 'ความร่วมมือ': <gensim.models.keyedvectors.Vocab object at 0x7f79ac12e110>, 'รายใหญ่': <gensim.models.keyedvectors.Vocab object at 0x7f79ac12e150>, 'กำลังแรงงาน': <gensim.models.keyedvectors.Vocab object at 0x7f79ac12e190>, '300': <gensim.models.keyedvectors.Vocab object at 0x7f79ac12e1d0>, '90': <gensim.models.keyedvectors.Vocab object at 0x7f79ac12e210>, 'อาชีพ': <gensim.models.keyedvectors.Vocab object at 0x7f79ac12e250>, 'การทำงาน': <gensim.models.keyedvectors.Vocab object at 0x7f79ac12e290>, 'ขึ้นทะเบียน': <gensim.models.keyedvectors.Vocab object at 0x7f79ac12e2d0>, 'ใบอนุญาต': <gensim.models.keyedvectors.Vocab object at 0x7f79ac12e310>, 'ชั่วคราว': <gensim.models.keyedvectors.Vocab object at 0x7f79ac12e350>, 'ต่างด้าว': <gensim.models.keyedvectors.Vocab object at 0x7f79ac12e390>, 'คนต่างด้าว': <gensim.models.keyedvectors.Vocab object at 0x7f79ac12e3d0>, 'ยากจน': <gensim.models.keyedvectors.Vocab object at 0x7f79ac12e410>, 'ซบเซา': <gensim.models.keyedvectors.Vocab object at 0x7f79ac12e450>, '2539': <gensim.models.keyedvectors.Vocab object at 0x7f79ac12e490>, 'ผลิตภัณฑ์': <gensim.models.keyedvectors.Vocab object at 0x7f79ac12e4d0>, '2530': <gensim.models.keyedvectors.Vocab object at 0x7f79ac12e510>, 'บูม': <gensim.models.keyedvectors.Vocab object at 0x7f79ac12e550>, 'การลงทุน': <gensim.models.keyedvectors.Vocab object at 0x7f79ac12e590>, 'หลายอย่าง': <gensim.models.keyedvectors.Vocab object at 0x7f79ac12e5d0>, 'ความเชื่อมั่น': <gensim.models.keyedvectors.Vocab object at 0x7f79ac12e610>, 'หดตัว': <gensim.models.keyedvectors.Vocab object at 0x7f79ac12e650>, 'ฟื้นตัว': <gensim.models.keyedvectors.Vocab object at 0x7f79ac12e690>, 'อุปทาน': <gensim.models.keyedvectors.Vocab object at 0x7f79ac12e6d0>, '2.1': <gensim.models.keyedvectors.Vocab object at 0x7f79ac12e710>, '7.1': <gensim.models.keyedvectors.Vocab object at 0x7f79ac12e750>, '108': <gensim.models.keyedvectors.Vocab object at 0x7f79ac12e790>, 'ลำดับชั้น': <gensim.models.keyedvectors.Vocab object at 0x7f79ac12e7d0>, 'เชื้อสาย': <gensim.models.keyedvectors.Vocab object at 0x7f79ac12e810>, 'ธุรกิจ': <gensim.models.keyedvectors.Vocab object at 0x7f79ac12e850>, 'มัธยฐาน': <gensim.models.keyedvectors.Vocab object at 0x7f79ac12e890>, 'ผู้ใหญ่': <gensim.models.keyedvectors.Vocab object at 0x7f79ac12e8d0>, '111': <gensim.models.keyedvectors.Vocab object at 0x7f79ac12e910>, 'อาหาร': <gensim.models.keyedvectors.Vocab object at 0x7f79ac12e950>, 'ครัวเรือน': <gensim.models.keyedvectors.Vocab object at 0x7f79ac12e990>, 'ความสามารถ': <gensim.models.keyedvectors.Vocab object at 0x7f79ac12e9d0>, 'บริโภค': <gensim.models.keyedvectors.Vocab object at 0x7f79ac12ea10>, '93': <gensim.models.keyedvectors.Vocab object at 0x7f79ac12ea50>, 'ความเหลื่อมล้ำ': <gensim.models.keyedvectors.Vocab object at 0x7f79ac12ea90>, '113': <gensim.models.keyedvectors.Vocab object at 0x7f79ac12ead0>, 'เชิงอรรถ': <gensim.models.keyedvectors.Vocab object at 0x7f79ac12eb10>, '115': <gensim.models.keyedvectors.Vocab object at 0x7f79ac12eb50>, 'ส่วนแบ่ง': <gensim.models.keyedvectors.Vocab object at 0x7f79ac12eb90>, 'ได้คิด': <gensim.models.keyedvectors.Vocab object at 0x7f79ac12ebd0>, 'ต่ำสุด': <gensim.models.keyedvectors.Vocab object at 0x7f79ac12ec10>, '116': <gensim.models.keyedvectors.Vocab object at 0x7f79ac12ec50>, '10,000': <gensim.models.keyedvectors.Vocab object at 0x7f79ac12ec90>, 'โล': <gensim.models.keyedvectors.Vocab object at 0x7f79ac12ecd0>, 'กรอง': <gensim.models.keyedvectors.Vocab object at 0x7f79ac12ed10>, '118': <gensim.models.keyedvectors.Vocab object at 0x7f79ac12ed50>, 'ครอบครัว': <gensim.models.keyedvectors.Vocab object at 0x7f79ac12ed90>, 'หนี้สิน': <gensim.models.keyedvectors.Vocab object at 0x7f79ac12edd0>, 'สำนักงาน': <gensim.models.keyedvectors.Vocab object at 0x7f79ac12ee10>, 'ไร้': <gensim.models.keyedvectors.Vocab object at 0x7f79ac12ee50>, '30,000': <gensim.models.keyedvectors.Vocab object at 0x7f79ac12ee90>, '1960': <gensim.models.keyedvectors.Vocab object at 0x7f79ac12eed0>, 'ส่งเสริม': <gensim.models.keyedvectors.Vocab object at 0x7f79ac12ef10>, '120': <gensim.models.keyedvectors.Vocab object at 0x7f79ac12ef50>, 'จ้างงาน': <gensim.models.keyedvectors.Vocab object at 0x7f79ac12ef90>, '121': <gensim.models.keyedvectors.Vocab object at 0x7f79ac12efd0>, 'ออ': <gensim.models.keyedvectors.Vocab object at 0x7f79ac130050>, 'ทั่วโลก': <gensim.models.keyedvectors.Vocab object at 0x7f79ac130090>, '122': <gensim.models.keyedvectors.Vocab object at 0x7f79ac1300d0>, 'ผู้ส่งออก': <gensim.models.keyedvectors.Vocab object at 0x7f79ac130110>, 'ผู้ผลิต': <gensim.models.keyedvectors.Vocab object at 0x7f79ac130150>, 'ธรรมชาติ': <gensim.models.keyedvectors.Vocab object at 0x7f79ac130190>, 'กุ้ง': <gensim.models.keyedvectors.Vocab object at 0x7f79ac1301d0>, 'ถั่วเหลือง': <gensim.models.keyedvectors.Vocab object at 0x7f79ac130210>, '127': <gensim.models.keyedvectors.Vocab object at 0x7f79ac130250>, 'วิสาหกิจ': <gensim.models.keyedvectors.Vocab object at 0x7f79ac130290>, 'ขนาด': <gensim.models.keyedvectors.Vocab object at 0x7f79ac1302d0>, 'sme': <gensim.models.keyedvectors.Vocab object at 0x7f79ac130310>, 'คนงาน': <gensim.models.keyedvectors.Vocab object at 0x7f79ac130350>, 'รถยนต์': <gensim.models.keyedvectors.Vocab object at 0x7f79ac130390>, '132': <gensim.models.keyedvectors.Vocab object at 0x7f79ac1303d0>, 'น้ำมัน': <gensim.models.keyedvectors.Vocab object at 0x7f79ac130410>, 'แก๊ส': <gensim.models.keyedvectors.Vocab object at 0x7f79ac130450>, 'สุทธิ': <gensim.models.keyedvectors.Vocab object at 0x7f79ac130490>, 'สำรอง': <gensim.models.keyedvectors.Vocab object at 0x7f79ac1304d0>, 'เชื้อเพลิง': <gensim.models.keyedvectors.Vocab object at 0x7f79ac130510>, 'พลังงาน': <gensim.models.keyedvectors.Vocab object at 0x7f79ac130550>, '%)': <gensim.models.keyedvectors.Vocab object at 0x7f79ac130590>, 'ลงมา': <gensim.models.keyedvectors.Vocab object at 0x7f79ac1305d0>, '133': <gensim.models.keyedvectors.Vocab object at 0x7f79ac130610>, 'ขั้นต้น': <gensim.models.keyedvectors.Vocab object at 0x7f79ac130650>, 'เทียบเท่า': <gensim.models.keyedvectors.Vocab object at 0x7f79ac130690>, 'ไฟฟ้า': <gensim.models.keyedvectors.Vocab object at 0x7f79ac1306d0>, 'ผลิต': <gensim.models.keyedvectors.Vocab object at 0x7f79ac130710>, 'พึ่งพา': <gensim.models.keyedvectors.Vocab object at 0x7f79ac130750>, 'นิวเคลียร์': <gensim.models.keyedvectors.Vocab object at 0x7f79ac130790>, 'เสนอ': <gensim.models.keyedvectors.Vocab object at 0x7f79ac1307d0>, 'ถนน': <gensim.models.keyedvectors.Vocab object at 0x7f79ac130810>, 'ผู้โดยสาร': <gensim.models.keyedvectors.Vocab object at 0x7f79ac130850>, 'ค่าระวาง': <gensim.models.keyedvectors.Vocab object at 0x7f79ac130890>, '136': <gensim.models.keyedvectors.Vocab object at 0x7f79ac1308d0>, 'ทางหลวง': <gensim.models.keyedvectors.Vocab object at 0x7f79ac130910>, '137': <gensim.models.keyedvectors.Vocab object at 0x7f79ac130950>, 'สาย': <gensim.models.keyedvectors.Vocab object at 0x7f79ac130990>, '138': <gensim.models.keyedvectors.Vocab object at 0x7f79ac1309d0>, 'เชื่อม': <gensim.models.keyedvectors.Vocab object at 0x7f79ac130a10>, 'เส้นทาง': <gensim.models.keyedvectors.Vocab object at 0x7f79ac130a50>, 'ยานพาหนะ': <gensim.models.keyedvectors.Vocab object at 0x7f79ac130a90>, 'จดทะเบียน': <gensim.models.keyedvectors.Vocab object at 0x7f79ac130ad0>, 'คัน': <gensim.models.keyedvectors.Vocab object at 0x7f79ac130b10>, '139': <gensim.models.keyedvectors.Vocab object at 0x7f79ac130b50>, '2561': <gensim.models.keyedvectors.Vocab object at 0x7f79ac130b90>, '141': <gensim.models.keyedvectors.Vocab object at 0x7f79ac130bd0>, 'ขนส่งสินค้า': <gensim.models.keyedvectors.Vocab object at 0x7f79ac130c10>, 'ราง': <gensim.models.keyedvectors.Vocab object at 0x7f79ac130c50>, 'รถไฟ': <gensim.models.keyedvectors.Vocab object at 0x7f79ac130c90>, 'อุปกรณ์': <gensim.models.keyedvectors.Vocab object at 0x7f79ac130cd0>, 'เอกชน': <gensim.models.keyedvectors.Vocab object at 0x7f79ac130d10>, '144': <gensim.models.keyedvectors.Vocab object at 0x7f79ac130d50>, 'ท่าเรือ': <gensim.models.keyedvectors.Vocab object at 0x7f79ac130d90>, 'ลึก': <gensim.models.keyedvectors.Vocab object at 0x7f79ac130dd0>, 'สินค้า': <gensim.models.keyedvectors.Vocab object at 0x7f79ac130e10>, 'เป็นหลัก': <gensim.models.keyedvectors.Vocab object at 0x7f79ac130e50>, 'นักท่องเที่ยว': <gensim.models.keyedvectors.Vocab object at 0x7f79ac130e90>, '147': <gensim.models.keyedvectors.Vocab object at 0x7f79ac130ed0>, 'การท่องเที่ยวแห่งประเทศไทย': <gensim.models.keyedvectors.Vocab object at 0x7f79ac130f10>, 'การท่องเที่ยว': <gensim.models.keyedvectors.Vocab object at 0x7f79ac130f50>, 'ท่องเที่ยว': <gensim.models.keyedvectors.Vocab object at 0x7f79ac130f90>, 'ยูเนสโก': <gensim.models.keyedvectors.Vocab object at 0x7f79ac130fd0>, 'แข่งขัน': <gensim.models.keyedvectors.Vocab object at 0x7f79ac132050>, 'เดินทาง': <gensim.models.keyedvectors.Vocab object at 0x7f79ac132090>, 'พัน': <gensim.models.keyedvectors.Vocab object at 0x7f79ac1320d0>, 'นวัตกรรม': <gensim.models.keyedvectors.Vocab object at 0x7f79ac132110>, 'วิจัยและพัฒนา': <gensim.models.keyedvectors.Vocab object at 0x7f79ac132150>, 'ภาคเอกชน': <gensim.models.keyedvectors.Vocab object at 0x7f79ac132190>, '155': <gensim.models.keyedvectors.Vocab object at 0x7f79ac1321d0>, 'งานวิจัย': <gensim.models.keyedvectors.Vocab object at 0x7f79ac132210>, 'พื้นฐาน': <gensim.models.keyedvectors.Vocab object at 0x7f79ac132250>, 'ข้อมูล': <gensim.models.keyedvectors.Vocab object at 0x7f79ac132290>, 'จดสิทธิบัตร': <gensim.models.keyedvectors.Vocab object at 0x7f79ac1322d0>, 'พลเมือง': <gensim.models.keyedvectors.Vocab object at 0x7f79ac132310>, 'วิทยาศาสตร์': <gensim.models.keyedvectors.Vocab object at 0x7f79ac132350>, 'เทคโนโลยี': <gensim.models.keyedvectors.Vocab object at 0x7f79ac132390>, 'การวิจัย': <gensim.models.keyedvectors.Vocab object at 0x7f79ac1323d0>, 'ชีว': <gensim.models.keyedvectors.Vocab object at 0x7f79ac132410>, 'มหาวิทยาลัย': <gensim.models.keyedvectors.Vocab object at 0x7f79ac132450>, '157': <gensim.models.keyedvectors.Vocab object at 0x7f79ac132490>, '158': <gensim.models.keyedvectors.Vocab object at 0x7f79ac1324d0>, 'i': <gensim.models.keyedvectors.Vocab object at 0x7f79ac132510>, 'เจริญพันธุ์': <gensim.models.keyedvectors.Vocab object at 0x7f79ac132550>, '2533': <gensim.models.keyedvectors.Vocab object at 0x7f79ac132590>, 'สมรส': <gensim.models.keyedvectors.Vocab object at 0x7f79ac1325d0>, 'วัยรุ่น': <gensim.models.keyedvectors.Vocab object at 0x7f79ac132610>, 'หญิง': <gensim.models.keyedvectors.Vocab object at 0x7f79ac132650>, 'อายุ': <gensim.models.keyedvectors.Vocab object at 0x7f79ac132690>, 'ชาติพันธุ์': <gensim.models.keyedvectors.Vocab object at 0x7f79ac1326d0>, 'สี่': <gensim.models.keyedvectors.Vocab object at 0x7f79ac132710>, 'อีสาน': <gensim.models.keyedvectors.Vocab object at 0x7f79ac132750>, '159': <gensim.models.keyedvectors.Vocab object at 0x7f79ac132790>, '179': <gensim.models.keyedvectors.Vocab object at 0x7f79ac1327d0>, 'ตัวอย่าง': <gensim.models.keyedvectors.Vocab object at 0x7f79ac132810>, 'เอก': <gensim.models.keyedvectors.Vocab object at 0x7f79ac132850>, 'ทักษะ': <gensim.models.keyedvectors.Vocab object at 0x7f79ac132890>, 'นักเรียน': <gensim.models.keyedvectors.Vocab object at 0x7f79ac1328d0>, 'ตั้งถิ่นฐาน': <gensim.models.keyedvectors.Vocab object at 0x7f79ac132910>, 'ศาสนาประจำชาติ': <gensim.models.keyedvectors.Vocab object at 0x7f79ac132950>, 'ถือศาสนา': <gensim.models.keyedvectors.Vocab object at 0x7f79ac132990>, 'กำหนดให้': <gensim.models.keyedvectors.Vocab object at 0x7f79ac1329d0>, 'นับถือ': <gensim.models.keyedvectors.Vocab object at 0x7f79ac132a10>, 'พระสงฆ์': <gensim.models.keyedvectors.Vocab object at 0x7f79ac132a50>, 'พระพุทธศาสนา': <gensim.models.keyedvectors.Vocab object at 0x7f79ac132a90>, '166': <gensim.models.keyedvectors.Vocab object at 0x7f79ac132ad0>, 'วัด': <gensim.models.keyedvectors.Vocab object at 0x7f79ac132b10>, 'รูป': <gensim.models.keyedvectors.Vocab object at 0x7f79ac132b50>, 'ศาสนาอิสลาม': <gensim.models.keyedvectors.Vocab object at 0x7f79ac132b90>, '170': <gensim.models.keyedvectors.Vocab object at 0x7f79ac132bd0>, 'มุสลิม': <gensim.models.keyedvectors.Vocab object at 0x7f79ac132c10>, 'สะท้อน': <gensim.models.keyedvectors.Vocab object at 0x7f79ac132c50>, 'ศาสนาคริสต์': <gensim.models.keyedvectors.Vocab object at 0x7f79ac132c90>, 'ฮินดู': <gensim.models.keyedvectors.Vocab object at 0x7f79ac132cd0>, 'ขงจื๊อ': <gensim.models.keyedvectors.Vocab object at 0x7f79ac132d10>, 'มีประวัติ': <gensim.models.keyedvectors.Vocab object at 0x7f79ac132d50>, 'การสำรวจ': <gensim.models.keyedvectors.Vocab object at 0x7f79ac132d90>, '/': <gensim.models.keyedvectors.Vocab object at 0x7f79ac132dd0>, 'ศาสนิกชน': <gensim.models.keyedvectors.Vocab object at 0x7f79ac132e10>, 'ภาษาไทย': <gensim.models.keyedvectors.Vocab object at 0x7f79ac132e50>, 'การเขียน': <gensim.models.keyedvectors.Vocab object at 0x7f79ac132e90>, 'สำเนียง': <gensim.models.keyedvectors.Vocab object at 0x7f79ac132ed0>, 'ตระกูล': <gensim.models.keyedvectors.Vocab object at 0x7f79ac132f10>, 'ชนกลุ่มน้อย': <gensim.models.keyedvectors.Vocab object at 0x7f79ac132f50>, 'ภาษาจีน': <gensim.models.keyedvectors.Vocab object at 0x7f79ac132f90>, 'นิยาม': <gensim.models.keyedvectors.Vocab object at 0x7f79ac132fd0>, 'ม': <gensim.models.keyedvectors.Vocab object at 0x7f79ac134050>, 'ภาคบังคับ': <gensim.models.keyedvectors.Vocab object at 0x7f79ac134090>, '176': <gensim.models.keyedvectors.Vocab object at 0x7f79ac1340d0>, 'มัธยมศึกษา': <gensim.models.keyedvectors.Vocab object at 0x7f79ac134110>, 'ผู้เรียน': <gensim.models.keyedvectors.Vocab object at 0x7f79ac134150>, 'โรงเรียน': <gensim.models.keyedvectors.Vocab object at 0x7f79ac134190>, 'สำเร็จการศึกษา': <gensim.models.keyedvectors.Vocab object at 0x7f79ac1341d0>, 'ประถมศึกษา': <gensim.models.keyedvectors.Vocab object at 0x7f79ac134210>, 'ม.': <gensim.models.keyedvectors.Vocab object at 0x7f79ac134250>, 'ติดอันดับ': <gensim.models.keyedvectors.Vocab object at 0x7f79ac134290>, '3.9': <gensim.models.keyedvectors.Vocab object at 0x7f79ac1342d0>, 'คุณภาพ': <gensim.models.keyedvectors.Vocab object at 0x7f79ac134310>, 'พิจารณา': <gensim.models.keyedvectors.Vocab object at 0x7f79ac134350>, 'ความสำเร็จ': <gensim.models.keyedvectors.Vocab object at 0x7f79ac134390>, 'ครู': <gensim.models.keyedvectors.Vocab object at 0x7f79ac1343d0>, 'เชาวน์ปัญญา': <gensim.models.keyedvectors.Vocab object at 0x7f79ac134410>, 'มงคล': <gensim.models.keyedvectors.Vocab object at 0x7f79ac134450>, 'เยาวชน': <gensim.models.keyedvectors.Vocab object at 0x7f79ac134490>, 'เข้าถึง': <gensim.models.keyedvectors.Vocab object at 0x7f79ac1344d0>, 'ชีพ': <gensim.models.keyedvectors.Vocab object at 0x7f79ac134510>, 'อุบัติเหตุ': <gensim.models.keyedvectors.Vocab object at 0x7f79ac134550>, 'เอชไอวี': <gensim.models.keyedvectors.Vocab object at 0x7f79ac134590>, 'เอดส์': <gensim.models.keyedvectors.Vocab object at 0x7f79ac1345d0>, 'หลอดเลือด': <gensim.models.keyedvectors.Vocab object at 0x7f79ac134610>, 'สมอง': <gensim.models.keyedvectors.Vocab object at 0x7f79ac134650>, '191': <gensim.models.keyedvectors.Vocab object at 0x7f79ac134690>, 'คลอด': <gensim.models.keyedvectors.Vocab object at 0x7f79ac1346d0>, 'สำนักงานประกันสังคม': <gensim.models.keyedvectors.Vocab object at 0x7f79ac134710>, 'ผู้ประกันตน': <gensim.models.keyedvectors.Vocab object at 0x7f79ac134750>, 'โรงพยาบาล': <gensim.models.keyedvectors.Vocab object at 0x7f79ac134790>, 'วิญญาณ': <gensim.models.keyedvectors.Vocab object at 0x7f79ac1347d0>, 'วัฒน': <gensim.models.keyedvectors.Vocab object at 0x7f79ac134810>, '199': <gensim.models.keyedvectors.Vocab object at 0x7f79ac134850>, 'ที่สาธารณะ': <gensim.models.keyedvectors.Vocab object at 0x7f79ac134890>, 'สถานการณ์': <gensim.models.keyedvectors.Vocab object at 0x7f79ac1348d0>, '200': <gensim.models.keyedvectors.Vocab object at 0x7f79ac134910>, 'ทราบ': <gensim.models.keyedvectors.Vocab object at 0x7f79ac134950>, 'ความสนุก': <gensim.models.keyedvectors.Vocab object at 0x7f79ac134990>, '201': <gensim.models.keyedvectors.Vocab object at 0x7f79ac1349d0>, 'ส่วนสำคัญ': <gensim.models.keyedvectors.Vocab object at 0x7f79ac134a10>, 'ศิลปะ': <gensim.models.keyedvectors.Vocab object at 0x7f79ac134a50>, 'สำนัก': <gensim.models.keyedvectors.Vocab object at 0x7f79ac134a90>, '203': <gensim.models.keyedvectors.Vocab object at 0x7f79ac134ad0>, 'อเมริกัน': <gensim.models.keyedvectors.Vocab object at 0x7f79ac134b10>, 'ศิลปิน': <gensim.models.keyedvectors.Vocab object at 0x7f79ac134b50>, 'ภาพยนตร์': <gensim.models.keyedvectors.Vocab object at 0x7f79ac134b90>, 'เครื่อง': <gensim.models.keyedvectors.Vocab object at 0x7f79ac134bd0>, 'ปั้น': <gensim.models.keyedvectors.Vocab object at 0x7f79ac134c10>, 'เผา': <gensim.models.keyedvectors.Vocab object at 0x7f79ac134c50>, 'พริก': <gensim.models.keyedvectors.Vocab object at 0x7f79ac134c90>, 'น้ำปลา': <gensim.models.keyedvectors.Vocab object at 0x7f79ac134cd0>, 'ชุด': <gensim.models.keyedvectors.Vocab object at 0x7f79ac134d10>, 'ก๋วยเตี๋ยว': <gensim.models.keyedvectors.Vocab object at 0x7f79ac134d50>, 'น้ำจิ้ม': <gensim.models.keyedvectors.Vocab object at 0x7f79ac134d90>, 'ไก่': <gensim.models.keyedvectors.Vocab object at 0x7f79ac134dd0>, 'เรียบง่าย': <gensim.models.keyedvectors.Vocab object at 0x7f79ac134e10>, 'ส้มตำ': <gensim.models.keyedvectors.Vocab object at 0x7f79ac134e50>, 'อร่อย': <gensim.models.keyedvectors.Vocab object at 0x7f79ac134e90>, 'แกงมัสมั่น': <gensim.models.keyedvectors.Vocab object at 0x7f79ac134ed0>, 'ถ่ายทำ': <gensim.models.keyedvectors.Vocab object at 0x7f79ac134f10>, 'ประเภท': <gensim.models.keyedvectors.Vocab object at 0x7f79ac134f50>, 'สงครามโลก': <gensim.models.keyedvectors.Vocab object at 0x7f79ac134f90>, 'เทศกาล': <gensim.models.keyedvectors.Vocab object at 0x7f79ac134fd0>, 'รับรางวัล': <gensim.models.keyedvectors.Vocab object at 0x7f79ac137050>, 'ก.': <gensim.models.keyedvectors.Vocab object at 0x7f79ac137090>, 'ฉาย': <gensim.models.keyedvectors.Vocab object at 0x7f79ac1370d0>, 'บันเทิง': <gensim.models.keyedvectors.Vocab object at 0x7f79ac137110>, 'ละครโทรทัศน์': <gensim.models.keyedvectors.Vocab object at 0x7f79ac137150>, 'ละคร': <gensim.models.keyedvectors.Vocab object at 0x7f79ac137190>, 'ดนตรีไทย': <gensim.models.keyedvectors.Vocab object at 0x7f79ac1371d0>, 'ดนตรี': <gensim.models.keyedvectors.Vocab object at 0x7f79ac137210>, '218': <gensim.models.keyedvectors.Vocab object at 0x7f79ac137250>, 'เทคนิค': <gensim.models.keyedvectors.Vocab object at 0x7f79ac137290>, 'ประพันธ์': <gensim.models.keyedvectors.Vocab object at 0x7f79ac1372d0>, 'ร้อย': <gensim.models.keyedvectors.Vocab object at 0x7f79ac137310>, 'วง': <gensim.models.keyedvectors.Vocab object at 0x7f79ac137350>, 'คลาสสิก': <gensim.models.keyedvectors.Vocab object at 0x7f79ac137390>, 'รำไทย': <gensim.models.keyedvectors.Vocab object at 0x7f79ac1373d0>, 'รำ': <gensim.models.keyedvectors.Vocab object at 0x7f79ac137410>, 'ท่า': <gensim.models.keyedvectors.Vocab object at 0x7f79ac137450>, 'ละครรำ': <gensim.models.keyedvectors.Vocab object at 0x7f79ac137490>, 'รามเกียรติ์': <gensim.models.keyedvectors.Vocab object at 0x7f79ac1374d0>, 'โขน': <gensim.models.keyedvectors.Vocab object at 0x7f79ac137510>, 'สังข์': <gensim.models.keyedvectors.Vocab object at 0x7f79ac137550>, 'การแสดง': <gensim.models.keyedvectors.Vocab object at 0x7f79ac137590>, 'ฟ้อน': <gensim.models.keyedvectors.Vocab object at 0x7f79ac1375d0>, 'พระราชพิธี': <gensim.models.keyedvectors.Vocab object at 0x7f79ac137610>, 'สิบสอง': <gensim.models.keyedvectors.Vocab object at 0x7f79ac137650>, 'พิธี': <gensim.models.keyedvectors.Vocab object at 0x7f79ac137690>, '),': <gensim.models.keyedvectors.Vocab object at 0x7f79ac1376d0>, 'ราษฎร์': <gensim.models.keyedvectors.Vocab object at 0x7f79ac137710>, 'ขอฝน': <gensim.models.keyedvectors.Vocab object at 0x7f79ac137750>, 'ออกพรรษา': <gensim.models.keyedvectors.Vocab object at 0x7f79ac137790>, '221': <gensim.models.keyedvectors.Vocab object at 0x7f79ac1377d0>, '222': <gensim.models.keyedvectors.Vocab object at 0x7f79ac137810>, 'ลิลิต': <gensim.models.keyedvectors.Vocab object at 0x7f79ac137850>, 'กาพย์': <gensim.models.keyedvectors.Vocab object at 0x7f79ac137890>, 'น': <gensim.models.keyedvectors.Vocab object at 0x7f79ac1378d0>, 'อิเหนา': <gensim.models.keyedvectors.Vocab object at 0x7f79ac137910>, 'ผลงาน': <gensim.models.keyedvectors.Vocab object at 0x7f79ac137950>, 'นิตยสาร': <gensim.models.keyedvectors.Vocab object at 0x7f79ac137990>, 'หนังสือพิมพ์': <gensim.models.keyedvectors.Vocab object at 0x7f79ac1379d0>, 'นวนิยาย': <gensim.models.keyedvectors.Vocab object at 0x7f79ac137a10>, 'ความนิยม': <gensim.models.keyedvectors.Vocab object at 0x7f79ac137a50>, 'มวยไทย': <gensim.models.keyedvectors.Vocab object at 0x7f79ac137a90>, 'กีฬา': <gensim.models.keyedvectors.Vocab object at 0x7f79ac137ad0>, 'ฟุตบอล': <gensim.models.keyedvectors.Vocab object at 0x7f79ac137b10>, 'ยอดนิยม': <gensim.models.keyedvectors.Vocab object at 0x7f79ac137b50>, 'โอลิมปิก': <gensim.models.keyedvectors.Vocab object at 0x7f79ac137b90>, 'นักกีฬา': <gensim.models.keyedvectors.Vocab object at 0x7f79ac137bd0>, 'ซีเกมส์': <gensim.models.keyedvectors.Vocab object at 0x7f79ac137c10>, 'เป็นเจ้าภาพ': <gensim.models.keyedvectors.Vocab object at 0x7f79ac137c50>, 'สื่อ': <gensim.models.keyedvectors.Vocab object at 0x7f79ac137c90>, 'โทรทัศน์': <gensim.models.keyedvectors.Vocab object at 0x7f79ac137cd0>, '230': <gensim.models.keyedvectors.Vocab object at 0x7f79ac137d10>, 'ผู้อ่าน': <gensim.models.keyedvectors.Vocab object at 0x7f79ac137d50>, '50.1': <gensim.models.keyedvectors.Vocab object at 0x7f79ac137d90>, 'เคลื่อนที่': <gensim.models.keyedvectors.Vocab object at 0x7f79ac137dd0>, 'ผู้ใช้': <gensim.models.keyedvectors.Vocab object at 0x7f79ac137e10>, 'อินเทอร์เน็ต': <gensim.models.keyedvectors.Vocab object at 0x7f79ac137e50>, 'คอมพิวเตอร์': <gensim.models.keyedvectors.Vocab object at 0x7f79ac137e90>}\n"
          ],
          "name": "stdout"
        }
      ]
    },
    {
      "cell_type": "code",
      "metadata": {
        "colab": {
          "base_uri": "https://localhost:8080/"
        },
        "id": "AwNJ0nK0YI_m",
        "outputId": "28a6dad5-b511-469c-9790-523dbc8096f0"
      },
      "source": [
        "word2vec.wv.most_similar('เศรษฐกิจ')"
      ],
      "execution_count": null,
      "outputs": [
        {
          "output_type": "execute_result",
          "data": {
            "text/plain": [
              "[(' ', 0.9998087286949158),\n",
              " (']', 0.9998069405555725),\n",
              " (']:', 0.9997903108596802),\n",
              " ('ปี', 0.9997886419296265),\n",
              " ('ไทย', 0.999787449836731),\n",
              " ('ประเทศ', 0.9997811913490295),\n",
              " ('[', 0.999780535697937),\n",
              " ('อันดับ', 0.9997799396514893),\n",
              " ('รัฐบาล', 0.999778151512146),\n",
              " ('34', 0.9997661113739014)]"
            ]
          },
          "metadata": {
            "tags": []
          },
          "execution_count": 20
        }
      ]
    },
    {
      "cell_type": "code",
      "metadata": {
        "colab": {
          "base_uri": "https://localhost:8080/"
        },
        "id": "G0zC_txNYW1B",
        "outputId": "40c4ffb5-5faf-4826-d91c-5602c54b26c3"
      },
      "source": [
        "!wget https://raw.githubusercontent.com/Thundertung/FS_movie_data/main/train_queries_th.csv\n",
        "!wget https://raw.githubusercontent.com/Thundertung/FS_movie_data/main/test_queries_th.csv\n",
        "!wget https://raw.githubusercontent.com/Thundertung/FS_movie_data/main/train_corpus_th.csv\n",
        "!wget https://raw.githubusercontent.com/Thundertung/FS_movie_data/main/test_corpus_th.csv"
      ],
      "execution_count": null,
      "outputs": [
        {
          "output_type": "stream",
          "text": [
            "--2021-05-15 05:00:33--  https://raw.githubusercontent.com/Thundertung/FS_movie_data/main/train_queries_th.csv\n",
            "Resolving raw.githubusercontent.com (raw.githubusercontent.com)... 185.199.108.133, 185.199.109.133, 185.199.110.133, ...\n",
            "Connecting to raw.githubusercontent.com (raw.githubusercontent.com)|185.199.108.133|:443... connected.\n",
            "HTTP request sent, awaiting response... 200 OK\n",
            "Length: 13201 (13K) [text/plain]\n",
            "Saving to: ‘train_queries_th.csv’\n",
            "\n",
            "\rtrain_queries_th.cs   0%[                    ]       0  --.-KB/s               \rtrain_queries_th.cs 100%[===================>]  12.89K  --.-KB/s    in 0s      \n",
            "\n",
            "2021-05-15 05:00:33 (50.9 MB/s) - ‘train_queries_th.csv’ saved [13201/13201]\n",
            "\n",
            "--2021-05-15 05:00:33--  https://raw.githubusercontent.com/Thundertung/FS_movie_data/main/test_queries_th.csv\n",
            "Resolving raw.githubusercontent.com (raw.githubusercontent.com)... 185.199.111.133, 185.199.108.133, 185.199.109.133, ...\n",
            "Connecting to raw.githubusercontent.com (raw.githubusercontent.com)|185.199.111.133|:443... connected.\n",
            "HTTP request sent, awaiting response... 200 OK\n",
            "Length: 364157 (356K) [text/plain]\n",
            "Saving to: ‘test_queries_th.csv’\n",
            "\n",
            "test_queries_th.csv 100%[===================>] 355.62K  --.-KB/s    in 0.04s   \n",
            "\n",
            "2021-05-15 05:00:34 (9.08 MB/s) - ‘test_queries_th.csv’ saved [364157/364157]\n",
            "\n",
            "--2021-05-15 05:00:34--  https://raw.githubusercontent.com/Thundertung/FS_movie_data/main/train_corpus_th.csv\n",
            "Resolving raw.githubusercontent.com (raw.githubusercontent.com)... 185.199.111.133, 185.199.109.133, 185.199.110.133, ...\n",
            "Connecting to raw.githubusercontent.com (raw.githubusercontent.com)|185.199.111.133|:443... connected.\n",
            "HTTP request sent, awaiting response... 200 OK\n",
            "Length: 822970 (804K) [text/plain]\n",
            "Saving to: ‘train_corpus_th.csv’\n",
            "\n",
            "train_corpus_th.csv 100%[===================>] 803.68K  --.-KB/s    in 0.05s   \n",
            "\n",
            "2021-05-15 05:00:34 (15.3 MB/s) - ‘train_corpus_th.csv’ saved [822970/822970]\n",
            "\n",
            "--2021-05-15 05:00:34--  https://raw.githubusercontent.com/Thundertung/FS_movie_data/main/test_corpus_th.csv\n",
            "Resolving raw.githubusercontent.com (raw.githubusercontent.com)... 185.199.108.133, 185.199.109.133, 185.199.110.133, ...\n",
            "Connecting to raw.githubusercontent.com (raw.githubusercontent.com)|185.199.108.133|:443... connected.\n",
            "HTTP request sent, awaiting response... 200 OK\n",
            "Length: 1220694 (1.2M) [text/plain]\n",
            "Saving to: ‘test_corpus_th.csv’\n",
            "\n",
            "test_corpus_th.csv  100%[===================>]   1.16M  --.-KB/s    in 0.07s   \n",
            "\n",
            "2021-05-15 05:00:35 (17.0 MB/s) - ‘test_corpus_th.csv’ saved [1220694/1220694]\n",
            "\n"
          ],
          "name": "stdout"
        }
      ]
    },
    {
      "cell_type": "code",
      "metadata": {
        "colab": {
          "base_uri": "https://localhost:8080/"
        },
        "id": "DpBWNq-KZcII",
        "outputId": "61172aaa-a185-47e7-b7d4-190f40a46067"
      },
      "source": [
        "!pip install pandas"
      ],
      "execution_count": null,
      "outputs": [
        {
          "output_type": "stream",
          "text": [
            "Requirement already satisfied: pandas in /usr/local/lib/python3.7/dist-packages (1.1.5)\n",
            "Requirement already satisfied: pytz>=2017.2 in /usr/local/lib/python3.7/dist-packages (from pandas) (2018.9)\n",
            "Requirement already satisfied: python-dateutil>=2.7.3 in /usr/local/lib/python3.7/dist-packages (from pandas) (2.8.1)\n",
            "Requirement already satisfied: numpy>=1.15.4 in /usr/local/lib/python3.7/dist-packages (from pandas) (1.19.5)\n",
            "Requirement already satisfied: six>=1.5 in /usr/local/lib/python3.7/dist-packages (from python-dateutil>=2.7.3->pandas) (1.15.0)\n"
          ],
          "name": "stdout"
        }
      ]
    },
    {
      "cell_type": "code",
      "metadata": {
        "id": "PvgRbv5xZj-O"
      },
      "source": [
        "import pandas as pd\n",
        "\n",
        "train_corpus = pd.read_csv('train_corpus_th.csv')\n",
        "test_corpus = pd.read_csv('test_corpus_th.csv')\n",
        "train_queries = pd.read_csv('train_queries_th.csv')\n",
        "train_queries = pd.read_csv('train_queries_th.csv')"
      ],
      "execution_count": null,
      "outputs": []
    },
    {
      "cell_type": "code",
      "metadata": {
        "colab": {
          "base_uri": "https://localhost:8080/",
          "height": 204
        },
        "id": "Zo7uUMAwZ_BJ",
        "outputId": "f5a6a2b8-24ce-4933-f0a5-37973afea637"
      },
      "source": [
        "train_corpus.head()"
      ],
      "execution_count": null,
      "outputs": [
        {
          "output_type": "execute_result",
          "data": {
            "text/html": [
              "<div>\n",
              "<style scoped>\n",
              "    .dataframe tbody tr th:only-of-type {\n",
              "        vertical-align: middle;\n",
              "    }\n",
              "\n",
              "    .dataframe tbody tr th {\n",
              "        vertical-align: top;\n",
              "    }\n",
              "\n",
              "    .dataframe thead th {\n",
              "        text-align: right;\n",
              "    }\n",
              "</style>\n",
              "<table border=\"1\" class=\"dataframe\">\n",
              "  <thead>\n",
              "    <tr style=\"text-align: right;\">\n",
              "      <th></th>\n",
              "      <th>Unnamed: 0</th>\n",
              "      <th>docid</th>\n",
              "      <th>thai_title</th>\n",
              "      <th>thai_body</th>\n",
              "    </tr>\n",
              "  </thead>\n",
              "  <tbody>\n",
              "    <tr>\n",
              "      <th>0</th>\n",
              "      <td>0</td>\n",
              "      <td>D297612</td>\n",
              "      <td>Fair Oaks, Ca County of Sacramento</td>\n",
              "      <td>Fair Fair Oaks, Ca County of Sacramento Fair O...</td>\n",
              "    </tr>\n",
              "    <tr>\n",
              "      <th>1</th>\n",
              "      <td>1</td>\n",
              "      <td>D1036761</td>\n",
              "      <td>สนามบินใดที่อยู่ใกล้กับตัวเมืองลอนดอนที่สุด?</td>\n",
              "      <td>Answers.com ® Wiki Answers ®หมวดหมู่ท่องเที่ยว...</td>\n",
              "    </tr>\n",
              "    <tr>\n",
              "      <th>2</th>\n",
              "      <td>2</td>\n",
              "      <td>D2025493</td>\n",
              "      <td>York County, South Carolina ลำดับวงศ์ตระกูล</td>\n",
              "      <td>การนำทางค้นหาประเทศสหรัฐอเมริกา South Carolina...</td>\n",
              "    </tr>\n",
              "    <tr>\n",
              "      <th>3</th>\n",
              "      <td>3</td>\n",
              "      <td>D2214523</td>\n",
              "      <td>ที่อยู่อาศัยตามธรรมชาติของหมาป่า</td>\n",
              "      <td>หมาป่าเป็นสมาชิกของตระกูลสุนัข แต่พวกเขาไม่ได้...</td>\n",
              "    </tr>\n",
              "    <tr>\n",
              "      <th>4</th>\n",
              "      <td>4</td>\n",
              "      <td>D1881859</td>\n",
              "      <td>กฎหมายสิทธิพิเศษและคำจำกัดความทางกฎหมาย</td>\n",
              "      <td>กฎหมายสิทธิพิเศษที่ส่งมอบและคำจำกัดความทางกฎหม...</td>\n",
              "    </tr>\n",
              "  </tbody>\n",
              "</table>\n",
              "</div>"
            ],
            "text/plain": [
              "   Unnamed: 0  ...                                          thai_body\n",
              "0           0  ...  Fair Fair Oaks, Ca County of Sacramento Fair O...\n",
              "1           1  ...  Answers.com ® Wiki Answers ®หมวดหมู่ท่องเที่ยว...\n",
              "2           2  ...  การนำทางค้นหาประเทศสหรัฐอเมริกา South Carolina...\n",
              "3           3  ...  หมาป่าเป็นสมาชิกของตระกูลสุนัข แต่พวกเขาไม่ได้...\n",
              "4           4  ...  กฎหมายสิทธิพิเศษที่ส่งมอบและคำจำกัดความทางกฎหม...\n",
              "\n",
              "[5 rows x 4 columns]"
            ]
          },
          "metadata": {
            "tags": []
          },
          "execution_count": 24
        }
      ]
    },
    {
      "cell_type": "code",
      "metadata": {
        "colab": {
          "base_uri": "https://localhost:8080/",
          "height": 204
        },
        "id": "5VhadtVGaCr9",
        "outputId": "489d8c0f-9e70-4b42-fc91-ee23368539b8"
      },
      "source": [
        "train_queries.head()"
      ],
      "execution_count": null,
      "outputs": [
        {
          "output_type": "execute_result",
          "data": {
            "text/html": [
              "<div>\n",
              "<style scoped>\n",
              "    .dataframe tbody tr th:only-of-type {\n",
              "        vertical-align: middle;\n",
              "    }\n",
              "\n",
              "    .dataframe tbody tr th {\n",
              "        vertical-align: top;\n",
              "    }\n",
              "\n",
              "    .dataframe thead th {\n",
              "        text-align: right;\n",
              "    }\n",
              "</style>\n",
              "<table border=\"1\" class=\"dataframe\">\n",
              "  <thead>\n",
              "    <tr style=\"text-align: right;\">\n",
              "      <th></th>\n",
              "      <th>Unnamed: 0</th>\n",
              "      <th>qid</th>\n",
              "      <th>query</th>\n",
              "      <th>thai_reduced_cleaned</th>\n",
              "    </tr>\n",
              "  </thead>\n",
              "  <tbody>\n",
              "    <tr>\n",
              "      <th>0</th>\n",
              "      <td>0</td>\n",
              "      <td>687888</td>\n",
              "      <td>what is a jpe</td>\n",
              "      <td>เพลงประเภทใดที่ถือว่าถูกรบกวนเสียงเงียบ</td>\n",
              "    </tr>\n",
              "    <tr>\n",
              "      <th>1</th>\n",
              "      <td>1</td>\n",
              "      <td>480210</td>\n",
              "      <td>price for asphalt driveway</td>\n",
              "      <td>มะพร้าวผันผวนหมายถึงอะไร</td>\n",
              "    </tr>\n",
              "    <tr>\n",
              "      <th>2</th>\n",
              "      <td>2</td>\n",
              "      <td>591004</td>\n",
              "      <td>what causes pressure skin bruising</td>\n",
              "      <td>ทีวีซีรีส์เปิดตัว Outlander เมื่อใด</td>\n",
              "    </tr>\n",
              "    <tr>\n",
              "      <th>3</th>\n",
              "      <td>3</td>\n",
              "      <td>260536</td>\n",
              "      <td>how long drive from flagstaff to grand canyon</td>\n",
              "      <td>รายได้นักเต้นระบำเปลื้องผ้าโดยเฉลี่ย</td>\n",
              "    </tr>\n",
              "    <tr>\n",
              "      <th>4</th>\n",
              "      <td>4</td>\n",
              "      <td>39422</td>\n",
              "      <td>average number of bowel movements per day for ...</td>\n",
              "      <td>ทะเลสีขาวอยู่ที่ไหน</td>\n",
              "    </tr>\n",
              "  </tbody>\n",
              "</table>\n",
              "</div>"
            ],
            "text/plain": [
              "   Unnamed: 0  ...                      thai_reduced_cleaned\n",
              "0           0  ...  เพลงประเภทใดที่ถือว่าถูกรบกวนเสียงเงียบ \n",
              "1           1  ...                 มะพร้าวผันผวนหมายถึงอะไร \n",
              "2           2  ...      ทีวีซีรีส์เปิดตัว Outlander เมื่อใด \n",
              "3           3  ...     รายได้นักเต้นระบำเปลื้องผ้าโดยเฉลี่ย \n",
              "4           4  ...                      ทะเลสีขาวอยู่ที่ไหน \n",
              "\n",
              "[5 rows x 4 columns]"
            ]
          },
          "metadata": {
            "tags": []
          },
          "execution_count": 25
        }
      ]
    },
    {
      "cell_type": "code",
      "metadata": {
        "id": "zu3HVbqEaJju"
      },
      "source": [
        "combined_training = pd.concat([train_corpus.rename(columns= {'thai_body':'text'})['text'],\\\n",
        "                               train_queries.rename(columns= {'thai_reduced_cleaned': 'text'})['text']])\\\n",
        "                               .sample(frac=1).reset_index(drop=True)"
      ],
      "execution_count": null,
      "outputs": []
    },
    {
      "cell_type": "code",
      "metadata": {
        "id": "kLrkP3bFa0sN"
      },
      "source": [
        "from gensim.models import Word2Vec\n",
        "\n",
        "train_data =[]\n",
        "for i in combined_training:\n",
        "  train_data.append(i.split())\n",
        "\n",
        "w2v_model = Word2Vec(train_data, size=300, min_count=2 , window=5, sg=1 ,workers=4)"
      ],
      "execution_count": null,
      "outputs": []
    },
    {
      "cell_type": "code",
      "metadata": {
        "colab": {
          "base_uri": "https://localhost:8080/"
        },
        "id": "irKXVnRnbUCP",
        "outputId": "697afd90-5059-49b5-f173-aede6b8cc838"
      },
      "source": [
        "print(len(w2v_model.wv.vocab))"
      ],
      "execution_count": null,
      "outputs": [
        {
          "output_type": "stream",
          "text": [
            "1340\n"
          ],
          "name": "stdout"
        }
      ]
    },
    {
      "cell_type": "code",
      "metadata": {
        "colab": {
          "base_uri": "https://localhost:8080/"
        },
        "id": "QOREXMxKblsW",
        "outputId": "ea3000ab-333a-47ba-989e-dfbc2d7005ef"
      },
      "source": [
        "!pip install numpy\n",
        "\n",
        "import numpy as np \n",
        "\n",
        "def get_embedding_w2v(doc_tokens):\n",
        "  embeddings=[]\n",
        "  if len(doc_tokens)<1:\n",
        "    return np.zeros(300)\n",
        "  else:\n",
        "    for token in doc_tokens:\n",
        "      if token in w2v_model.wv.vocab:\n",
        "        embeddings.append(w2v_model.wv.word_vec(token))\n",
        "      else:\n",
        "        embeddings.append(np.random.rand(300))\n",
        "\n",
        "      return np.mean(embeddings,axis=0)"
      ],
      "execution_count": null,
      "outputs": [
        {
          "output_type": "stream",
          "text": [
            "Requirement already satisfied: numpy in /usr/local/lib/python3.7/dist-packages (1.19.5)\n"
          ],
          "name": "stdout"
        }
      ]
    },
    {
      "cell_type": "code",
      "metadata": {
        "id": "qBibdRSEcmF6"
      },
      "source": [
        "test_queries = pd.read_csv('test_queries_th.csv')\n",
        "\n",
        "test_corpus['vector'] =test_corpus[ 'thai_body'].apply(lambda x: get_embedding_w2v(x.split()))\n",
        "test_queries['vector'] =test_queries[ 'thai_cleaned'].apply(lambda x: get_embedding_w2v(x.split()))"
      ],
      "execution_count": null,
      "outputs": []
    },
    {
      "cell_type": "code",
      "metadata": {
        "colab": {
          "base_uri": "https://localhost:8080/"
        },
        "id": "tA8WIA9Fc7vk",
        "outputId": "1bd1b520-616c-42df-9d75-38ec7f9683de"
      },
      "source": [
        "!pip install scikit-learn\n",
        "from sklearn.metrics.pairwise import cosine_similarity"
      ],
      "execution_count": null,
      "outputs": [
        {
          "output_type": "stream",
          "text": [
            "Requirement already satisfied: scikit-learn in /usr/local/lib/python3.7/dist-packages (0.22.2.post1)\n",
            "Requirement already satisfied: joblib>=0.11 in /usr/local/lib/python3.7/dist-packages (from scikit-learn) (1.0.1)\n",
            "Requirement already satisfied: scipy>=0.17.0 in /usr/local/lib/python3.7/dist-packages (from scikit-learn) (1.4.1)\n",
            "Requirement already satisfied: numpy>=1.11.0 in /usr/local/lib/python3.7/dist-packages (from scikit-learn) (1.19.5)\n"
          ],
          "name": "stdout"
        }
      ]
    },
    {
      "cell_type": "code",
      "metadata": {
        "id": "qFoxL2qbdg2U"
      },
      "source": [
        "def ranking_ir(query):\n",
        "  vector=get_embedding_w2v(query.split())\n",
        "  \n",
        "  documents = test_corpus[['docid','thai_title','thai_body']].copy()\n",
        "  documents['similarity'] = test_corpus['vector'].apply(lambda x: cosine_similarity(np.array(vector).reshape(1,-1),np.array(x).reshape(1,-1)).item())\n",
        "  documents.sort_values(by='similarity', ascending= False, inplace= True)\n",
        "  return documents.head(10).reset_index(drop=True)"
      ],
      "execution_count": null,
      "outputs": []
    },
    {
      "cell_type": "code",
      "metadata": {
        "colab": {
          "base_uri": "https://localhost:8080/",
          "height": 359
        },
        "id": "guklu7nBfU8P",
        "outputId": "0fe9f6f5-1385-418c-e844-0e4fdc7f64e8"
      },
      "source": [
        "ranking_ir('เทคโนโลยี')"
      ],
      "execution_count": null,
      "outputs": [
        {
          "output_type": "execute_result",
          "data": {
            "text/html": [
              "<div>\n",
              "<style scoped>\n",
              "    .dataframe tbody tr th:only-of-type {\n",
              "        vertical-align: middle;\n",
              "    }\n",
              "\n",
              "    .dataframe tbody tr th {\n",
              "        vertical-align: top;\n",
              "    }\n",
              "\n",
              "    .dataframe thead th {\n",
              "        text-align: right;\n",
              "    }\n",
              "</style>\n",
              "<table border=\"1\" class=\"dataframe\">\n",
              "  <thead>\n",
              "    <tr style=\"text-align: right;\">\n",
              "      <th></th>\n",
              "      <th>docid</th>\n",
              "      <th>thai_title</th>\n",
              "      <th>thai_body</th>\n",
              "      <th>similarity</th>\n",
              "    </tr>\n",
              "  </thead>\n",
              "  <tbody>\n",
              "    <tr>\n",
              "      <th>0</th>\n",
              "      <td>D3295240</td>\n",
              "      <td>เจ้าชายแฮร์รี่และเจ้าชายวิลเลียมมีนามสกุลหรือไ...</td>\n",
              "      <td>ราชวงศ์สังคมและวัฒนธรรมทำเจ้าชายแฮร์รี่และเจ้า...</td>\n",
              "      <td>0.780323</td>\n",
              "    </tr>\n",
              "    <tr>\n",
              "      <th>1</th>\n",
              "      <td>D2433432</td>\n",
              "      <td>สาเหตุของลัทธิจักรวรรดินิยมในยุโรปในแอฟริกาคือ...</td>\n",
              "      <td>หน้าแรก»ห้องเรียนสาเหตุของลัทธิจักรวรรดินิยมใน...</td>\n",
              "      <td>0.767350</td>\n",
              "    </tr>\n",
              "    <tr>\n",
              "      <th>2</th>\n",
              "      <td>D1331028</td>\n",
              "      <td>การทำอาหารและเครื่องย่ออบ</td>\n",
              "      <td>การปรุงอาหารและการอบตัวย่อช้อนชา = TSP หรือ T ...</td>\n",
              "      <td>0.761175</td>\n",
              "    </tr>\n",
              "    <tr>\n",
              "      <th>3</th>\n",
              "      <td>D2919457</td>\n",
              "      <td>เก้าวิธีที่อาหารแปรรูปเป็นอันตรายต่อผู้คน</td>\n",
              "      <td>จดหมายข่าว MNT - ข่าวทางการแพทย์รายชั่วโมงตั้ง...</td>\n",
              "      <td>0.761143</td>\n",
              "    </tr>\n",
              "    <tr>\n",
              "      <th>4</th>\n",
              "      <td>D156067</td>\n",
              "      <td>สิ่งพิมพ์ 17 (2017) ภาษีเงินได้ของรัฐบาลกลางขอ...</td>\n",
              "      <td>สิ่งพิมพ์ 17 (2017) ภาษีเงินได้ของรัฐบาลกลางขอ...</td>\n",
              "      <td>0.760504</td>\n",
              "    </tr>\n",
              "    <tr>\n",
              "      <th>5</th>\n",
              "      <td>D2494974</td>\n",
              "      <td>ชีวภาพ 21.</td>\n",
              "      <td>52 ข้อกำหนด skaczmarek316bio ch. 21Learn Flash...</td>\n",
              "      <td>0.760145</td>\n",
              "    </tr>\n",
              "    <tr>\n",
              "      <th>6</th>\n",
              "      <td>D723870</td>\n",
              "      <td>เซลล์และเนื้อเยื่อเติบโตอย่างไร</td>\n",
              "      <td>หน้านี้จะบอกคุณเกี่ยวกับวิธีการที่เซลล์ปกติและ...</td>\n",
              "      <td>0.758701</td>\n",
              "    </tr>\n",
              "    <tr>\n",
              "      <th>7</th>\n",
              "      <td>D562540</td>\n",
              "      <td>สาเหตุของการ cushing ของซินโดรม</td>\n",
              "      <td>สาเหตุของอาการของโรค Cushing Intro ประเภททำให้...</td>\n",
              "      <td>0.757771</td>\n",
              "    </tr>\n",
              "    <tr>\n",
              "      <th>8</th>\n",
              "      <td>D1049266</td>\n",
              "      <td>สถาบันฝึกอบรม Java ที่ดีที่สุดตั้งอยู่ในบังกาล...</td>\n",
              "      <td>สถาบันฝึกอบรมใน Bangalore Institute Bangaluru,...</td>\n",
              "      <td>0.757541</td>\n",
              "    </tr>\n",
              "    <tr>\n",
              "      <th>9</th>\n",
              "      <td>D401477</td>\n",
              "      <td>เนื้อหมูที่ดึงมานานแค่ไหนและคุณสามารถแช่แข็งหม...</td>\n",
              "      <td>ในโลกมีอาหารจำนวนหนึ่งที่คุณไม่รังเกียจที่จะกิ...</td>\n",
              "      <td>0.756947</td>\n",
              "    </tr>\n",
              "  </tbody>\n",
              "</table>\n",
              "</div>"
            ],
            "text/plain": [
              "      docid  ... similarity\n",
              "0  D3295240  ...   0.780323\n",
              "1  D2433432  ...   0.767350\n",
              "2  D1331028  ...   0.761175\n",
              "3  D2919457  ...   0.761143\n",
              "4   D156067  ...   0.760504\n",
              "5  D2494974  ...   0.760145\n",
              "6   D723870  ...   0.758701\n",
              "7   D562540  ...   0.757771\n",
              "8  D1049266  ...   0.757541\n",
              "9   D401477  ...   0.756947\n",
              "\n",
              "[10 rows x 4 columns]"
            ]
          },
          "metadata": {
            "tags": []
          },
          "execution_count": 50
        }
      ]
    },
    {
      "cell_type": "code",
      "metadata": {
        "id": "6mcCe6vbfkCx"
      },
      "source": [
        ""
      ],
      "execution_count": null,
      "outputs": []
    }
  ]
}