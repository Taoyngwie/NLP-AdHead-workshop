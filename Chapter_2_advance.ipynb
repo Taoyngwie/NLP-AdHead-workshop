{
  "nbformat": 4,
  "nbformat_minor": 0,
  "metadata": {
    "colab": {
      "name": "Chapter_2_advance.ipynb",
      "provenance": []
    },
    "kernelspec": {
      "name": "python3",
      "display_name": "Python 3"
    },
    "language_info": {
      "name": "python"
    }
  },
  "cells": [
    {
      "cell_type": "code",
      "metadata": {
        "colab": {
          "base_uri": "https://localhost:8080/"
        },
        "id": "xjtKNiZbJ99B",
        "outputId": "c14a9991-0187-492a-b893-057f08ee9a3a"
      },
      "source": [
        "!wget https://raw.githubusercontent.com/PyThaiNLP/lexicon-thai/master/clickbait/1.txt"
      ],
      "execution_count": null,
      "outputs": [
        {
          "output_type": "stream",
          "text": [
            "--2021-05-15 04:04:45--  https://raw.githubusercontent.com/PyThaiNLP/lexicon-thai/master/clickbait/1.txt\n",
            "Resolving raw.githubusercontent.com (raw.githubusercontent.com)... 185.199.108.133, 185.199.110.133, 185.199.111.133, ...\n",
            "Connecting to raw.githubusercontent.com (raw.githubusercontent.com)|185.199.108.133|:443... connected.\n",
            "HTTP request sent, awaiting response... 200 OK\n",
            "Length: 100059 (98K) [text/plain]\n",
            "Saving to: ‘1.txt’\n",
            "\n",
            "1.txt               100%[===================>]  97.71K  --.-KB/s    in 0.02s   \n",
            "\n",
            "2021-05-15 04:04:45 (6.27 MB/s) - ‘1.txt’ saved [100059/100059]\n",
            "\n"
          ],
          "name": "stdout"
        }
      ]
    },
    {
      "cell_type": "code",
      "metadata": {
        "colab": {
          "base_uri": "https://localhost:8080/"
        },
        "id": "6xTpvl7RMpME",
        "outputId": "3881d91d-246d-49fb-e5d8-90fa7d6dbbff"
      },
      "source": [
        "!pip install pandas"
      ],
      "execution_count": null,
      "outputs": [
        {
          "output_type": "stream",
          "text": [
            "Requirement already satisfied: pandas in /usr/local/lib/python3.7/dist-packages (1.1.5)\n",
            "Requirement already satisfied: pytz>=2017.2 in /usr/local/lib/python3.7/dist-packages (from pandas) (2018.9)\n",
            "Requirement already satisfied: numpy>=1.15.4 in /usr/local/lib/python3.7/dist-packages (from pandas) (1.19.5)\n",
            "Requirement already satisfied: python-dateutil>=2.7.3 in /usr/local/lib/python3.7/dist-packages (from pandas) (2.8.1)\n",
            "Requirement already satisfied: six>=1.5 in /usr/local/lib/python3.7/dist-packages (from python-dateutil>=2.7.3->pandas) (1.15.0)\n"
          ],
          "name": "stdout"
        }
      ]
    },
    {
      "cell_type": "code",
      "metadata": {
        "id": "QZLAYwBmMwK-"
      },
      "source": [
        "import pandas as pd\n",
        "\n",
        "df = pd.read_csv('1.txt', delimiter = '\\n', header = None)"
      ],
      "execution_count": null,
      "outputs": []
    },
    {
      "cell_type": "code",
      "metadata": {
        "colab": {
          "base_uri": "https://localhost:8080/",
          "height": 419
        },
        "id": "DNIWPH6xNCld",
        "outputId": "7928fe59-9ac9-4ce1-87ad-81e51335025d"
      },
      "source": [
        "df"
      ],
      "execution_count": null,
      "outputs": [
        {
          "output_type": "execute_result",
          "data": {
            "text/html": [
              "<div>\n",
              "<style scoped>\n",
              "    .dataframe tbody tr th:only-of-type {\n",
              "        vertical-align: middle;\n",
              "    }\n",
              "\n",
              "    .dataframe tbody tr th {\n",
              "        vertical-align: top;\n",
              "    }\n",
              "\n",
              "    .dataframe thead th {\n",
              "        text-align: right;\n",
              "    }\n",
              "</style>\n",
              "<table border=\"1\" class=\"dataframe\">\n",
              "  <thead>\n",
              "    <tr style=\"text-align: right;\">\n",
              "      <th></th>\n",
              "      <th>0</th>\n",
              "    </tr>\n",
              "  </thead>\n",
              "  <tbody>\n",
              "    <tr>\n",
              "      <th>0</th>\n",
              "      <td>ตะลึง! คุณจะไม่เชื่อเลยว่า Facebook ทำแบบนี้! ...</td>\n",
              "    </tr>\n",
              "    <tr>\n",
              "      <th>1</th>\n",
              "      <td>ถึงกับอึ้งเลย!!! เมื่อหนุ่มคนนี้ถือช่อดอกไม้มา...</td>\n",
              "    </tr>\n",
              "    <tr>\n",
              "      <th>2</th>\n",
              "      <td>!!!…สมัครเป็นลูกเขยด่วน…!!! เคยเห็นยัง? ลูกสาว...</td>\n",
              "    </tr>\n",
              "    <tr>\n",
              "      <th>3</th>\n",
              "      <td>!!!…เกิดมาเพิ่งเคยได้ยิน…!!! เมื่อจู่ๆ “หมอทำข...</td>\n",
              "    </tr>\n",
              "    <tr>\n",
              "      <th>4</th>\n",
              "      <td>!!!…แชร์กันรัวๆ…!!! “กรูล่ะปวดหัวจริ๊งจริง..!!...</td>\n",
              "    </tr>\n",
              "    <tr>\n",
              "      <th>...</th>\n",
              "      <td>...</td>\n",
              "    </tr>\n",
              "    <tr>\n",
              "      <th>345</th>\n",
              "      <td>ไม่ได้หายไปไหน ให้เน้นกว่าเดิม !! เลขเด็ด \"อ.โ...</td>\n",
              "    </tr>\n",
              "    <tr>\n",
              "      <th>346</th>\n",
              "      <td>ขยี้ตาแทบพัง !! \"สาว\"รีวิวพลีชีพ! จากเด็กอ้วนด...</td>\n",
              "    </tr>\n",
              "    <tr>\n",
              "      <th>347</th>\n",
              "      <td>จุกหนักพูดไม่ออก !! ภาพ \"ทหารหนุ่ม\" ยืนในร่มกั...</td>\n",
              "    </tr>\n",
              "    <tr>\n",
              "      <th>348</th>\n",
              "      <td>ช็อกทั้งโรงพยาบาล !! หนุ่มใหญ่ จู่ๆมีอาการ \"เจ...</td>\n",
              "    </tr>\n",
              "    <tr>\n",
              "      <th>349</th>\n",
              "      <td>ช็อคทั้งโซเชียล !! ฉีกทุกกฎของ\"การขายของ\" \"นัก...</td>\n",
              "    </tr>\n",
              "  </tbody>\n",
              "</table>\n",
              "<p>350 rows × 1 columns</p>\n",
              "</div>"
            ],
            "text/plain": [
              "                                                     0\n",
              "0    ตะลึง! คุณจะไม่เชื่อเลยว่า Facebook ทำแบบนี้! ...\n",
              "1    ถึงกับอึ้งเลย!!! เมื่อหนุ่มคนนี้ถือช่อดอกไม้มา...\n",
              "2    !!!…สมัครเป็นลูกเขยด่วน…!!! เคยเห็นยัง? ลูกสาว...\n",
              "3    !!!…เกิดมาเพิ่งเคยได้ยิน…!!! เมื่อจู่ๆ “หมอทำข...\n",
              "4    !!!…แชร์กันรัวๆ…!!! “กรูล่ะปวดหัวจริ๊งจริง..!!...\n",
              "..                                                 ...\n",
              "345  ไม่ได้หายไปไหน ให้เน้นกว่าเดิม !! เลขเด็ด \"อ.โ...\n",
              "346  ขยี้ตาแทบพัง !! \"สาว\"รีวิวพลีชีพ! จากเด็กอ้วนด...\n",
              "347  จุกหนักพูดไม่ออก !! ภาพ \"ทหารหนุ่ม\" ยืนในร่มกั...\n",
              "348  ช็อกทั้งโรงพยาบาล !! หนุ่มใหญ่ จู่ๆมีอาการ \"เจ...\n",
              "349  ช็อคทั้งโซเชียล !! ฉีกทุกกฎของ\"การขายของ\" \"นัก...\n",
              "\n",
              "[350 rows x 1 columns]"
            ]
          },
          "metadata": {
            "tags": []
          },
          "execution_count": 4
        }
      ]
    },
    {
      "cell_type": "code",
      "metadata": {
        "id": "AGZbbDdQNEkk"
      },
      "source": [
        "df.columns = ['text'] \n"
      ],
      "execution_count": null,
      "outputs": []
    },
    {
      "cell_type": "code",
      "metadata": {
        "colab": {
          "base_uri": "https://localhost:8080/"
        },
        "id": "Ru8Txs4QNKdL",
        "outputId": "bf57dbe0-5d66-492d-dc8f-d4ec08292169"
      },
      "source": [
        "!pip install pythainlp"
      ],
      "execution_count": null,
      "outputs": [
        {
          "output_type": "stream",
          "text": [
            "Collecting pythainlp\n",
            "\u001b[?25l  Downloading https://files.pythonhosted.org/packages/6e/e7/837dd9ab52fac889af830dc094a1598251f70004a2f1707ab0ff8dc0f63a/pythainlp-2.3.1-py3-none-any.whl (11.0MB)\n",
            "\u001b[K     |████████████████████████████████| 11.0MB 7.7MB/s \n",
            "\u001b[?25hCollecting python-crfsuite>=0.9.6\n",
            "\u001b[?25l  Downloading https://files.pythonhosted.org/packages/79/47/58f16c46506139f17de4630dbcfb877ce41a6355a1bbf3c443edb9708429/python_crfsuite-0.9.7-cp37-cp37m-manylinux1_x86_64.whl (743kB)\n",
            "\u001b[K     |████████████████████████████████| 747kB 42.2MB/s \n",
            "\u001b[?25hRequirement already satisfied: requests>=2.22.0 in /usr/local/lib/python3.7/dist-packages (from pythainlp) (2.23.0)\n",
            "Collecting tinydb>=3.0\n",
            "  Downloading https://files.pythonhosted.org/packages/af/cd/1ce3d93818cdeda0446b8033d21e5f32daeb3a866bbafd878a9a62058a9c/tinydb-4.4.0-py3-none-any.whl\n",
            "Requirement already satisfied: urllib3!=1.25.0,!=1.25.1,<1.26,>=1.21.1 in /usr/local/lib/python3.7/dist-packages (from requests>=2.22.0->pythainlp) (1.24.3)\n",
            "Requirement already satisfied: certifi>=2017.4.17 in /usr/local/lib/python3.7/dist-packages (from requests>=2.22.0->pythainlp) (2020.12.5)\n",
            "Requirement already satisfied: idna<3,>=2.5 in /usr/local/lib/python3.7/dist-packages (from requests>=2.22.0->pythainlp) (2.10)\n",
            "Requirement already satisfied: chardet<4,>=3.0.2 in /usr/local/lib/python3.7/dist-packages (from requests>=2.22.0->pythainlp) (3.0.4)\n",
            "Installing collected packages: python-crfsuite, tinydb, pythainlp\n",
            "Successfully installed pythainlp-2.3.1 python-crfsuite-0.9.7 tinydb-4.4.0\n"
          ],
          "name": "stdout"
        }
      ]
    },
    {
      "cell_type": "code",
      "metadata": {
        "id": "yDT4FdkvNhkg"
      },
      "source": [
        "from pythainlp.tokenize import word_tokenize \n",
        "\n",
        "df['text_tokenized'] = df.text.apply(word_tokenize)"
      ],
      "execution_count": null,
      "outputs": []
    },
    {
      "cell_type": "code",
      "metadata": {
        "colab": {
          "base_uri": "https://localhost:8080/",
          "height": 204
        },
        "id": "n_Wm4xLmN6_5",
        "outputId": "6f7a1973-fe28-4319-98ca-e59cb29ca8b6"
      },
      "source": [
        "df.head()"
      ],
      "execution_count": null,
      "outputs": [
        {
          "output_type": "execute_result",
          "data": {
            "text/html": [
              "<div>\n",
              "<style scoped>\n",
              "    .dataframe tbody tr th:only-of-type {\n",
              "        vertical-align: middle;\n",
              "    }\n",
              "\n",
              "    .dataframe tbody tr th {\n",
              "        vertical-align: top;\n",
              "    }\n",
              "\n",
              "    .dataframe thead th {\n",
              "        text-align: right;\n",
              "    }\n",
              "</style>\n",
              "<table border=\"1\" class=\"dataframe\">\n",
              "  <thead>\n",
              "    <tr style=\"text-align: right;\">\n",
              "      <th></th>\n",
              "      <th>text</th>\n",
              "      <th>text_tokenized</th>\n",
              "    </tr>\n",
              "  </thead>\n",
              "  <tbody>\n",
              "    <tr>\n",
              "      <th>0</th>\n",
              "      <td>ตะลึง! คุณจะไม่เชื่อเลยว่า Facebook ทำแบบนี้! ...</td>\n",
              "      <td>[ตะลึง, !,  , คุณ, จะ, ไม่, เชื่อ, เลย, ว่า,  ...</td>\n",
              "    </tr>\n",
              "    <tr>\n",
              "      <th>1</th>\n",
              "      <td>ถึงกับอึ้งเลย!!! เมื่อหนุ่มคนนี้ถือช่อดอกไม้มา...</td>\n",
              "      <td>[ถึงกับ, อึ้ง, เลย, !!!,  , เมื่อ, หนุ่ม, คน, ...</td>\n",
              "    </tr>\n",
              "    <tr>\n",
              "      <th>2</th>\n",
              "      <td>!!!…สมัครเป็นลูกเขยด่วน…!!! เคยเห็นยัง? ลูกสาว...</td>\n",
              "      <td>[!!!…, สมัคร, เป็น, ลูกเขย, ด่วน, …!!!,  , เคย...</td>\n",
              "    </tr>\n",
              "    <tr>\n",
              "      <th>3</th>\n",
              "      <td>!!!…เกิดมาเพิ่งเคยได้ยิน…!!! เมื่อจู่ๆ “หมอทำข...</td>\n",
              "      <td>[!!!…, เกิด, มา, เพิ่ง, เคย, ได้ยิน, …!!!,  , ...</td>\n",
              "    </tr>\n",
              "    <tr>\n",
              "      <th>4</th>\n",
              "      <td>!!!…แชร์กันรัวๆ…!!! “กรูล่ะปวดหัวจริ๊งจริง..!!...</td>\n",
              "      <td>[!!!…, แชร์, กัน, รัว, ๆ…!!!,  , “, กรู, ล่ะ, ...</td>\n",
              "    </tr>\n",
              "  </tbody>\n",
              "</table>\n",
              "</div>"
            ],
            "text/plain": [
              "                                                text                                     text_tokenized\n",
              "0  ตะลึง! คุณจะไม่เชื่อเลยว่า Facebook ทำแบบนี้! ...  [ตะลึง, !,  , คุณ, จะ, ไม่, เชื่อ, เลย, ว่า,  ...\n",
              "1  ถึงกับอึ้งเลย!!! เมื่อหนุ่มคนนี้ถือช่อดอกไม้มา...  [ถึงกับ, อึ้ง, เลย, !!!,  , เมื่อ, หนุ่ม, คน, ...\n",
              "2  !!!…สมัครเป็นลูกเขยด่วน…!!! เคยเห็นยัง? ลูกสาว...  [!!!…, สมัคร, เป็น, ลูกเขย, ด่วน, …!!!,  , เคย...\n",
              "3  !!!…เกิดมาเพิ่งเคยได้ยิน…!!! เมื่อจู่ๆ “หมอทำข...  [!!!…, เกิด, มา, เพิ่ง, เคย, ได้ยิน, …!!!,  , ...\n",
              "4  !!!…แชร์กันรัวๆ…!!! “กรูล่ะปวดหัวจริ๊งจริง..!!...  [!!!…, แชร์, กัน, รัว, ๆ…!!!,  , “, กรู, ล่ะ, ..."
            ]
          },
          "metadata": {
            "tags": []
          },
          "execution_count": 9
        }
      ]
    },
    {
      "cell_type": "code",
      "metadata": {
        "colab": {
          "base_uri": "https://localhost:8080/"
        },
        "id": "KNJIbhwcN8WC",
        "outputId": "6a2d026a-3919-4370-a95a-07602c0c0203"
      },
      "source": [
        "!pip install nltk\n",
        "\n",
        "\n"
      ],
      "execution_count": null,
      "outputs": [
        {
          "output_type": "stream",
          "text": [
            "Requirement already satisfied: nltk in /usr/local/lib/python3.7/dist-packages (3.2.5)\n",
            "Requirement already satisfied: six in /usr/local/lib/python3.7/dist-packages (from nltk) (1.15.0)\n"
          ],
          "name": "stdout"
        }
      ]
    },
    {
      "cell_type": "code",
      "metadata": {
        "id": "HPbZtc8xONDw"
      },
      "source": [
        "import nltk"
      ],
      "execution_count": null,
      "outputs": []
    },
    {
      "cell_type": "code",
      "metadata": {
        "id": "GlvRpTUUOP-I"
      },
      "source": [
        "from nltk import bigrams,trigrams \n",
        "from collections import Counter, defaultdict"
      ],
      "execution_count": null,
      "outputs": []
    },
    {
      "cell_type": "code",
      "metadata": {
        "id": "MUB5LgCqOcwu"
      },
      "source": [
        "model = defaultdict(lambda: defaultdict(lambda: 0))\n",
        "\n",
        "for sentence in df.text_tokenized:\n",
        "  for w1,w2,w3 in trigrams(sentence, pad_right=True, pad_left = True):\n",
        "    model[(w1,w2)][w3] += 1 \n",
        "\n",
        "\n",
        "for w1_w2 in model:\n",
        "  total_count = float(sum(model[w1_w2].values()))\n",
        "  for w3 in model[w1_w2]:\n",
        "    model[w1_w2][w3]/= total_count"
      ],
      "execution_count": null,
      "outputs": []
    },
    {
      "cell_type": "code",
      "metadata": {
        "id": "efxLKOnXP5r0"
      },
      "source": [
        "import random \n",
        "\n",
        "text = ['คุณ','จะ']\n",
        "sentence_finished = False\n",
        "\n",
        "while not sentence_finished:\n",
        "  r = random.random()\n",
        "  accumulator = .0\n",
        "\n",
        "  for word in model[tuple(text[-2:])].keys():\n",
        "    accumulator += model[tuple(text[-2:])][word]\n",
        "\n",
        "    if accumulator >= r:\n",
        "      text.append(word)\n",
        "      break\n",
        "  if text[-2:] == [None,None]:\n",
        "    sentence_finished= True\n"
      ],
      "execution_count": null,
      "outputs": []
    },
    {
      "cell_type": "code",
      "metadata": {
        "colab": {
          "base_uri": "https://localhost:8080/"
        },
        "id": "N-pcjKDvRP_n",
        "outputId": "b0556b3d-a2f3-40d8-b7c2-319bd58d7aad"
      },
      "source": [
        "print( ' '.join([txt for txt in text if txt]))"
      ],
      "execution_count": null,
      "outputs": [
        {
          "output_type": "stream",
          "text": [
            "คุณ จะ คาดไม่ถึง !!\n"
          ],
          "name": "stdout"
        }
      ]
    },
    {
      "cell_type": "code",
      "metadata": {
        "id": "Lz7VErGqR6qG"
      },
      "source": [
        ""
      ],
      "execution_count": null,
      "outputs": []
    }
  ]
}